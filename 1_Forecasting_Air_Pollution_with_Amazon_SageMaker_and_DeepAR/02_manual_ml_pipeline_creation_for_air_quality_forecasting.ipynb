{
 "cells": [
  {
   "cell_type": "markdown",
   "metadata": {},
   "source": [
    "# Air Quality Forecasting ML Pipeline [manual]\n",
    "\n",
    "---\n",
    "\n",
    "Once you are familiar with using Amazon SageMaker built-in algorithm - [DeepAR](https://docs.aws.amazon.com/sagemaker/latest/dg/deepar.html) to do [air quality forecasting model traing](./01_train_and_evaluate_air_quality_deepar_model.ipynb), we are going to build a ML Pipeline to automate the workflow with [AWS Step Functions Data Science SDK](https://aws-step-functions-data-science-sdk.readthedocs.io). \n",
    "\n",
    "First and foremost, let's have a quick dive-in to the architecture design.\n",
    "\n",
    "![Air Quality Forecasting Architecture Design](./img/air_quality_forecasting_architecture.png)\n",
    "\n",
    "In the architecture diagram:\n",
    "* There is preprocessing job to do data integration\n",
    "  * A table is created in Amazon Athena to query data on open air quality data.\n",
    "  * A query is triggered to collect Sydney, Australia related data.\n",
    "  * Data cleansing and feature engineering\n",
    "* Hyperparameters optimization is optional\n",
    "* Model training with tuned hyperparameters\n",
    "* Batch transform job is triggerred to forecast coming 48 hours air quality.\n",
    "\n",
    "In the notebook, we are going to demo how to create the workflow step by step and process till model training. Please note book Batch Transform Job will be covered in [03...](./03_.ipynb). Below is the related Step Functions workflow mapping to the ML pipeline with no HPO and using an trained model:\n",
    "\n",
    "![Air Quality Forecasting ML Pipeline](./img/air_quality_forecasting_ml_pipeline.png)"
   ]
  },
  {
   "cell_type": "markdown",
   "metadata": {},
   "source": [
    "## ML Pipeline Creation\n",
    "---\n",
    "To create ML pipeline, we will use Step Functions Data Science SDK v2.0.0rc1 version, which is compatible with SageMaker SDK 2.x.x.\n",
    "\n",
    "In below cells, we will demo:\n",
    "* Environment initialization\n",
    "* Preprocessing docker container creation\n",
    "* ML Pipeline creation and execution"
   ]
  },
  {
   "cell_type": "markdown",
   "metadata": {},
   "source": [
    "### Initialize Environment"
   ]
  },
  {
   "cell_type": "code",
   "execution_count": 1,
   "metadata": {},
   "outputs": [],
   "source": [
    "%load_ext autoreload\n",
    "%autoreload 2"
   ]
  },
  {
   "cell_type": "code",
   "execution_count": 2,
   "metadata": {},
   "outputs": [
    {
     "name": "stdout",
     "output_type": "stream",
     "text": [
      "Collecting pip\n",
      "  Using cached pip-20.2.3-py2.py3-none-any.whl (1.5 MB)\n",
      "Installing collected packages: pip\n",
      "  Attempting uninstall: pip\n",
      "    Found existing installation: pip 20.0.2\n",
      "    Uninstalling pip-20.0.2:\n",
      "      Successfully uninstalled pip-20.0.2\n",
      "Successfully installed pip-20.2.3\n",
      "Name: sagemaker\n",
      "Version: 2.15.0\n",
      "Summary: Open source library for training and deploying models on Amazon SageMaker.\n",
      "Home-page: https://github.com/aws/sagemaker-python-sdk/\n",
      "Author: Amazon Web Services\n",
      "Author-email: None\n",
      "License: Apache License 2.0\n",
      "Location: /home/ec2-user/anaconda3/envs/python3/lib/python3.6/site-packages\n",
      "Requires: importlib-metadata, packaging, numpy, smdebug-rulesconfig, google-pasta, protobuf, protobuf3-to-dict, boto3\n",
      "Required-by: stepfunctions\n",
      "---\n",
      "Name: stepfunctions\n",
      "Version: 2.0.0rc1\n",
      "Summary: Open source library for develping data science workflows on AWS Step Functions.\n",
      "Home-page: https://github.com/aws/aws-step-functions-data-science-sdk-python\n",
      "Author: Amazon Web Services\n",
      "Author-email: None\n",
      "License: Apache License 2.0\n",
      "Location: /home/ec2-user/anaconda3/envs/python3/lib/python3.6/site-packages\n",
      "Requires: pyyaml, sagemaker, boto3\n",
      "Required-by: \n"
     ]
    }
   ],
   "source": [
    "import sys\n",
    "!{sys.executable} -m pip install --upgrade pip\n",
    "!{sys.executable} -m pip install -qU awscli boto3 \"sagemaker>=2.0.0\" # 2.0.0\n",
    "!{sys.executable} -m pip install -qU \"stepfunctions==2.0.0rc1\"\n",
    "!{sys.executable} -m pip show sagemaker stepfunctions"
   ]
  },
  {
   "cell_type": "code",
   "execution_count": null,
   "metadata": {},
   "outputs": [],
   "source": [
    "# Restart kernel so that the installed packages take effective.\n",
    "from IPython.display import display_html\n",
    "def restartkernel() :\n",
    "    display_html(\"<script>Jupyter.notebook.kernel.restart()</script>\",raw=True)"
   ]
  },
  {
   "cell_type": "code",
   "execution_count": 26,
   "metadata": {},
   "outputs": [],
   "source": [
    "# include imports, bucket_name, role and existing training model uri.\n",
    "from pipeline.ml_pipeline_dependencies import *"
   ]
  },
  {
   "cell_type": "markdown",
   "metadata": {},
   "source": [
    "Setup the workflow execution role. For the role arn, please refer to the output tab of the CloudFormation stack. "
   ]
  },
  {
   "cell_type": "code",
   "execution_count": 4,
   "metadata": {},
   "outputs": [],
   "source": [
    "ssm = boto3.client('ssm')\n",
    "response = ssm.get_parameter(Name = \"/ml_pipeline/workflow_execution_role\")\n",
    "WORKFLOW_EXECUTION_ROLE = response['Parameter']['Value']"
   ]
  },
  {
   "cell_type": "code",
   "execution_count": 5,
   "metadata": {},
   "outputs": [
    {
     "name": "stdout",
     "output_type": "stream",
     "text": [
      "Workflow execution IAM service role: arn:aws:iam::593380422482:role/aqf-test-StepFunctionsWorkflowExecutionRole-1OQTNT7INJ4ZI\n"
     ]
    }
   ],
   "source": [
    "if not WORKFLOW_EXECUTION_ROLE:\n",
    "    raise Exception(\"It looks parameter in System Manager is not setup properly. Please check whether the ml-pipeline stack has been created or not.\")\n",
    "else:\n",
    "    print(f\"Workflow execution IAM service role: {WORKFLOW_EXECUTION_ROLE}\")"
   ]
  },
  {
   "cell_type": "markdown",
   "metadata": {},
   "source": [
    "### Build Docker image for SageMaker Processing\n",
    "\n",
    "Define your own processing container and install related dependencies.\n",
    "\n",
    "Below, you talk through how to create a processing container, and how to use a `ScriptProcessor` to run your own code within a container. Create a container support data preprocessing, feature engineering and model evaluation. "
   ]
  },
  {
   "cell_type": "markdown",
   "metadata": {},
   "source": [
    "This block of code buils the container using the docker command, creates an Amazon Elastic Container Registry (Amazon ECR) repository, and pushes the image to Amazon ECR"
   ]
  },
  {
   "cell_type": "code",
   "execution_count": 6,
   "metadata": {},
   "outputs": [],
   "source": [
    "# define repository name and uri variables\n",
    "ecr_repository = 'air-quality-forecasting-preprocessing'\n",
    "tag = ':latest'\n",
    "uri_suffix = 'amazonaws.com'\n",
    "if region in ['cn-north-1', 'cn-northwest-1']:\n",
    "    uri_suffix = 'amazonaws.com.cn'\n",
    "processing_repository_uri = f'{account_id}.dkr.ecr.{region}.{uri_suffix}/{ecr_repository + tag}'"
   ]
  },
  {
   "cell_type": "code",
   "execution_count": null,
   "metadata": {},
   "outputs": [],
   "source": [
    "# build the image.\n",
    "!docker build -t $ecr_repository -f ./ml_pipeline_preprocessing_Dockerfile ."
   ]
  },
  {
   "cell_type": "code",
   "execution_count": null,
   "metadata": {},
   "outputs": [],
   "source": [
    "# ECR repository should have been created with CloudFormation stack. Uncomment below to create it in case it wasn't.\n",
    "!aws ecr create-repository --repository-name $ecr_repository\n",
    "\n",
    "# Login and push the built docker image\n",
    "!$(aws ecr get-login --region $region --registry-ids $account_id --no-include-email)\n",
    "!docker tag {ecr_repository + tag} $processing_repository_uri\n",
    "!docker push $processing_repository_uri"
   ]
  },
  {
   "cell_type": "markdown",
   "metadata": {},
   "source": [
    "### Create the ProcessingStep\n",
    "We will now create the [ProcessingStep](https://aws-step-functions-data-science-sdk.readthedocs.io/en/stable/sagemaker.html#stepfunctions.steps.sagemaker.ProcessingStep) that will launch a SageMaker Processing Job.\n",
    "\n",
    "In the processing job script `ml_pipeline_preprocessing.py`, the actions will be done:\n",
    "\n",
    "* Create Athena table with external source - OpenAQ\n",
    "* Query Sydney OpenAQ data \n",
    "* Feature engineering on the dataset\n",
    "* Split training and test data \n",
    "* Store the data on S3 buckets."
   ]
  },
  {
   "cell_type": "markdown",
   "metadata": {},
   "source": [
    "Upload the preprocessing script."
   ]
  },
  {
   "cell_type": "code",
   "execution_count": 36,
   "metadata": {},
   "outputs": [],
   "source": [
    "PREPROCESSING_SCRIPT_LOCATION = \"ml_pipeline_preprocessing.py\"\n",
    "input_code_uri = sagemaker_session.upload_data(\n",
    "    PREPROCESSING_SCRIPT_LOCATION,\n",
    "    bucket = bucket_name,\n",
    "    key_prefix = \"preprocessing/code\",\n",
    ")"
   ]
  },
  {
   "cell_type": "markdown",
   "metadata": {},
   "source": [
    "The `ScriptProcessor` class lets you run a command inside the container, which you can use to run your own script."
   ]
  },
  {
   "cell_type": "code",
   "execution_count": 37,
   "metadata": {},
   "outputs": [],
   "source": [
    "preprocessing_processor = ScriptProcessor(\n",
    "    command = ['python3'],\n",
    "    image_uri = processing_repository_uri,\n",
    "    role = role,\n",
    "    instance_count = 1,\n",
    "    instance_type = 'ml.m5.2xlarge',\n",
    "    max_runtime_in_seconds = 1200\n",
    ")"
   ]
  },
  {
   "cell_type": "markdown",
   "metadata": {},
   "source": [
    "S3 locations of preprocessing output with training, test & all features."
   ]
  },
  {
   "cell_type": "code",
   "execution_count": 38,
   "metadata": {},
   "outputs": [],
   "source": [
    "output_data = f\"s3://{bucket_name}/preprocessing/output\""
   ]
  },
  {
   "cell_type": "markdown",
   "metadata": {},
   "source": [
    "This step will use ScriptProcessor as defined in previous steps along with the inputs and outputs objects that are defined in the below steps."
   ]
  },
  {
   "cell_type": "code",
   "execution_count": 39,
   "metadata": {},
   "outputs": [],
   "source": [
    "inputs = [\n",
    "    ProcessingInput(\n",
    "        source = input_code_uri,\n",
    "        destination = \"/opt/ml/processing/input/code\",\n",
    "        input_name = \"code\"\n",
    "    )\n",
    "]\n",
    "\n",
    "outputs = [\n",
    "    ProcessingOutput(\n",
    "        source = \"/opt/ml/processing/output/all\",\n",
    "        destination = f\"{output_data}/all\",\n",
    "        output_name = \"all_data\"\n",
    "    ),\n",
    "    ProcessingOutput(\n",
    "        source = \"/opt/ml/processing/output/train\",\n",
    "        destination = f\"{output_data}/train\",\n",
    "        output_name = \"train_data\"\n",
    "    ),\n",
    "    ProcessingOutput(\n",
    "        source = \"/opt/ml/processing/output/test\",\n",
    "        destination = f\"{output_data}/test\",\n",
    "        output_name = \"test_data\"\n",
    "    )\n",
    "]"
   ]
  },
  {
   "cell_type": "code",
   "execution_count": 40,
   "metadata": {},
   "outputs": [],
   "source": [
    "# Workflow Execution parameters\n",
    "execution_input = ExecutionInput(\n",
    "    schema = {\n",
    "        \"PreprocessingJobName\": str,\n",
    "        \"ToDoHPO\": bool,\n",
    "        \"ToDoTraining\": bool,\n",
    "        \"TrainingJobName\": str,\n",
    "        \"TuningJobName\": str,\n",
    "        \"ModelName\": str,\n",
    "        \"EndpointName\": str,\n",
    "        \"TransformJobName\": str\n",
    "    }\n",
    ")"
   ]
  },
  {
   "cell_type": "markdown",
   "metadata": {},
   "source": [
    "`ProcessingStep` queries open air quality data for Sydney Australia with Amazon Athena. Especially, we are using our bucket to store query result. In case you setup default workgroup in Amazon Athena, please ensure to uncheck ***Override client-side settings***. "
   ]
  },
  {
   "cell_type": "code",
   "execution_count": 41,
   "metadata": {},
   "outputs": [],
   "source": [
    "processing_step = ProcessingStep(\n",
    "    \"AirQualityForecasting Preprocessing Step\",\n",
    "    processor = preprocessing_processor,\n",
    "    job_name = execution_input[\"PreprocessingJobName\"],\n",
    "    inputs = inputs,\n",
    "    outputs = outputs,\n",
    "    container_arguments = [\"--split-days\", \"30\", \"--region\", region, \"--bucket-name\", bucket_name],\n",
    "    container_entrypoint = [\"python3\", \"/opt/ml/processing/input/code/ml_pipeline_preprocessing.py\"]\n",
    ")"
   ]
  },
  {
   "cell_type": "markdown",
   "metadata": {},
   "source": [
    "### Hyperparameter Tuning\n",
    "\n",
    "Setup tuning step and use choice state to decide whether we should do HPO."
   ]
  },
  {
   "cell_type": "code",
   "execution_count": 42,
   "metadata": {
    "scrolled": true
   },
   "outputs": [],
   "source": [
    "tuning_output_path = f's3://{bucket_name}/sagemaker/tuning/output'\n",
    "image_uri = sagemaker.image_uris.retrieve('forecasting-deepar', region, '1')\n",
    "ml_instance_type = 'ml.g4dn.8xlarge'\n",
    "\n",
    "tuning_estimator = sagemaker.estimator.Estimator(\n",
    "        sagemaker_session = sagemaker_session,\n",
    "        image_uri = image_uri,\n",
    "        role = role,\n",
    "        instance_count = 1,\n",
    "        instance_type = ml_instance_type,\n",
    "        base_job_name = 'deepar-openaq-demo',\n",
    "        output_path = tuning_output_path\n",
    ")"
   ]
  },
  {
   "cell_type": "markdown",
   "metadata": {},
   "source": [
    "#### Set static hyperparameters\n",
    "The static parameters are the ones we know to be the best based on previously run HPO jobs, as well as the non-tunable parameters like prediction length and time frequency that are set according to requirements."
   ]
  },
  {
   "cell_type": "code",
   "execution_count": 43,
   "metadata": {},
   "outputs": [],
   "source": [
    "hpo = dict(\n",
    "    time_freq= '1H'\n",
    "    ,early_stopping_patience= 40\n",
    "    ,prediction_length= 48\n",
    "    ,num_eval_samples= 10\n",
    "\n",
    "    # default quantiles [0.1, 0.2, 0.3, ..., 0.9] is used\n",
    "    #,test_quantiles= quantiles\n",
    "    \n",
    "    # not setting these since HPO will use range of values\n",
    "    #,epochs= 400\n",
    "    #,context_length= 3\n",
    "    #,num_cells= 157\n",
    "    #,num_layers= 4\n",
    "    #,dropout_rate= 0.04\n",
    "    #,embedding_dimension= 12\n",
    "    #,mini_batch_size= 633\n",
    "    #,learning_rate= 0.0005\n",
    ")"
   ]
  },
  {
   "cell_type": "markdown",
   "metadata": {},
   "source": [
    "#### Set hyper-parameter ranges\n",
    "The hyperparameter ranges define the parameters we want the runer to search across.\n",
    "\n",
    "> Explore: Look in the [user guide](https://docs.aws.amazon.com/sagemaker/latest/dg/deepar_hyperparameters.html) for DeepAR and add the recommended ranges for `embedding_dimension` to the below."
   ]
  },
  {
   "cell_type": "code",
   "execution_count": 44,
   "metadata": {},
   "outputs": [],
   "source": [
    "hpo_ranges = dict(\n",
    "    epochs= IntegerParameter(1, 1000)\n",
    "    ,context_length= IntegerParameter(7, 48)\n",
    "    ,num_cells= IntegerParameter(30,200)\n",
    "    ,num_layers= IntegerParameter(1,8)\n",
    "    ,dropout_rate= ContinuousParameter(0.0, 0.2)\n",
    "    ,embedding_dimension= IntegerParameter(1, 50)\n",
    "    ,mini_batch_size= IntegerParameter(32, 1028)\n",
    "    ,learning_rate= ContinuousParameter(.00001, .1)\n",
    ")"
   ]
  },
  {
   "cell_type": "markdown",
   "metadata": {},
   "source": [
    "#### Create HPO tunning job step\n",
    "Once we have the HPO tuner defined, we can define the tuning step."
   ]
  },
  {
   "cell_type": "code",
   "execution_count": 45,
   "metadata": {},
   "outputs": [],
   "source": [
    "tuning_estimator.set_hyperparameters(**hpo)\n",
    "\n",
    "hpo_tuner = HyperparameterTuner(\n",
    "    estimator = tuning_estimator, \n",
    "    objective_metric_name = 'train:final_loss',\n",
    "    objective_type = 'Minimize',\n",
    "    hyperparameter_ranges = hpo_ranges,\n",
    "    max_jobs = 2,\n",
    "    max_parallel_jobs = 1\n",
    ")\n",
    "\n",
    "hpo_data = dict(\n",
    "    train = f\"{output_data}/train\",\n",
    "    test = f\"{output_data}/test\"\n",
    ")\n",
    "# as long as HPO is selected, wait for completion.\n",
    "tuning_step = TuningStep(\n",
    "    \"HPO Step\",\n",
    "    tuner = hpo_tuner,\n",
    "    job_name = execution_input[\"TuningJobName\"],\n",
    "    data = hpo_data,\n",
    "    wait_for_completion = True\n",
    ")"
   ]
  },
  {
   "cell_type": "markdown",
   "metadata": {},
   "source": [
    "### Training\n",
    "\n",
    "We create a DeepAR instance, which we will use to run a training job. This will be used to create a TrainingStep for the workflow.\n",
    "\n",
    "#### Setup the training job step"
   ]
  },
  {
   "cell_type": "code",
   "execution_count": 46,
   "metadata": {},
   "outputs": [],
   "source": [
    "training_output_path = f's3://{bucket_name}/sagemaker/training/output'\n",
    "training_estimator = sagemaker.estimator.Estimator(\n",
    "        sagemaker_session = sagemaker_session,\n",
    "        image_uri = image_uri,\n",
    "        role = role,\n",
    "        instance_count = 1,\n",
    "        instance_type = ml_instance_type,\n",
    "        base_job_name = 'deepar-openaq-demo',\n",
    "        output_path = training_output_path\n",
    ")\n"
   ]
  },
  {
   "cell_type": "code",
   "execution_count": 47,
   "metadata": {},
   "outputs": [],
   "source": [
    "# best hyper parameters for tuning\n",
    "hpo = dict(\n",
    "    time_freq= '1H'\n",
    "    ,early_stopping_patience= 40\n",
    "    ,prediction_length= 48\n",
    "    ,num_eval_samples= 10\n",
    "    #,test_quantiles= quantiles\n",
    "    ,epochs= 400\n",
    "    ,context_length= 3\n",
    "    ,num_cells= 157\n",
    "    ,num_layers= 4\n",
    "    ,dropout_rate= 0.04\n",
    "    ,embedding_dimension= 12\n",
    "    ,mini_batch_size= 633\n",
    "    ,learning_rate= 0.0005\n",
    ")\n",
    "training_estimator.set_hyperparameters(**hpo)"
   ]
  },
  {
   "cell_type": "code",
   "execution_count": 48,
   "metadata": {},
   "outputs": [],
   "source": [
    "# use all the features for training.\n",
    "data = dict(train = f\"{output_data}/all/all_features.json\")\n",
    "training_step = TrainingStep(\n",
    "    \"Training Step\",\n",
    "    estimator = training_estimator,\n",
    "    data = data,\n",
    "    job_name = execution_input[\"TrainingJobName\"],\n",
    "    wait_for_completion = True\n",
    ")"
   ]
  },
  {
   "cell_type": "markdown",
   "metadata": {},
   "source": [
    "#### Create Model Step\n",
    "\n",
    "In the following cell, we define a model step that will create a model in Amazon SageMaker using the artifacts created during the TrainingStep. See  [ModelStep](https://aws-step-functions-data-science-sdk.readthedocs.io/en/latest/sagemaker.html#stepfunctions.steps.sagemaker.ModelStep) in the AWS Step Functions Data Science SDK documentation to learn more.\n",
    "\n",
    "The model creation step typically follows the training step. The Step Functions SDK provides the [get_expected_model](https://aws-step-functions-data-science-sdk.readthedocs.io/en/latest/sagemaker.html#stepfunctions.steps.sagemaker.TrainingStep.get_expected_model) method in the TrainingStep class to provide a reference for the trained model artifacts. Please note that this method is only useful when the ModelStep directly follows the TrainingStep."
   ]
  },
  {
   "cell_type": "code",
   "execution_count": 49,
   "metadata": {},
   "outputs": [],
   "source": [
    "model_step = ModelStep(\n",
    "    \"Save Model\",\n",
    "    model = training_step.get_expected_model(),\n",
    "    model_name = execution_input[\"ModelName\"],\n",
    "    result_path = \"$.ModelStepResults\"\n",
    ")\n",
    "\n",
    "# for deploying existing model\n",
    "existing_model_name = f\"aqf-model-{uuid.uuid1().hex}\"\n",
    "existing_model = Model(\n",
    "    model_data = EXISTING_MODEL_URI,\n",
    "    image_uri = image_uri,\n",
    "    role = role,\n",
    "    name = existing_model_name\n",
    ")\n",
    "existing_model_step = ModelStep(\n",
    "    \"Existing Model\",\n",
    "    model = existing_model,\n",
    "    model_name = execution_input[\"ModelName\"]\n",
    ")"
   ]
  },
  {
   "cell_type": "markdown",
   "metadata": {},
   "source": [
    "### Create an Endpoint Configuration Step\n",
    "In the following cell we create an endpoint configuration step. See [EndpointConfigStep](https://aws-step-functions-data-science-sdk.readthedocs.io/en/latest/sagemaker.html#stepfunctions.steps.sagemaker.EndpointConfigStep) in the AWS Step Functions Data Science SDK documentation to learn more."
   ]
  },
  {
   "cell_type": "code",
   "execution_count": 50,
   "metadata": {},
   "outputs": [],
   "source": [
    "endpoint_config_step = EndpointConfigStep(\n",
    "    \"Create Model Endpoint Config\",\n",
    "    endpoint_config_name = execution_input[\"ModelName\"],\n",
    "    model_name = execution_input[\"ModelName\"],\n",
    "    initial_instance_count = 1,\n",
    "    instance_type = 'ml.c5.xlarge'\n",
    ")"
   ]
  },
  {
   "cell_type": "markdown",
   "metadata": {},
   "source": [
    "### Model Endpoint Step\n",
    "In the following cells, we create the Endpoint step to deploy the new model as a managed API endpoint, updating an existing SageMaker endpoint if our choice state is sucessful."
   ]
  },
  {
   "cell_type": "code",
   "execution_count": 51,
   "metadata": {},
   "outputs": [],
   "source": [
    "endpoint_step = EndpointStep(\n",
    "    \"Model Endpoint\",\n",
    "    endpoint_name = execution_input[\"EndpointName\"],\n",
    "    endpoint_config_name = execution_input[\"ModelName\"],\n",
    "    update = False\n",
    ")"
   ]
  },
  {
   "cell_type": "markdown",
   "metadata": {},
   "source": [
    "#### Create StepFunctions Workflow execution Input values"
   ]
  },
  {
   "cell_type": "code",
   "execution_count": 52,
   "metadata": {},
   "outputs": [],
   "source": [
    "preprocessing_job_name = f\"aqf-preprocessing-{uuid.uuid1().hex}\"\n",
    "tuning_job_name = f\"aqf-tuning-{uuid.uuid1().hex}\"\n",
    "training_job_name = f\"aqf-training-{uuid.uuid1().hex}\"\n",
    "model_job_name = f\"aqf-model-{uuid.uuid1().hex}\"\n",
    "endpoint_job_name = f\"aqf-endpoint-{uuid.uuid1().hex}\"\n",
    "batch_transform_job_name = f\"aqf-transform-{uuid.uuid1().hex}\""
   ]
  },
  {
   "cell_type": "markdown",
   "metadata": {},
   "source": [
    "## Batch Transform Step\n",
    "In the following cells, we create the Batch Transform step to do batch inference."
   ]
  },
  {
   "cell_type": "code",
   "execution_count": 24,
   "metadata": {},
   "outputs": [],
   "source": [
    "# assume we only check '0.5' quatiles predictions.\n",
    "environment_param = {\n",
    "    'num_samples': 20,\n",
    "    'output_types': ['quantiles'],\n",
    "    'quantiles': ['0.5']\n",
    "}"
   ]
  },
  {
   "cell_type": "code",
   "execution_count": 53,
   "metadata": {},
   "outputs": [],
   "source": [
    "transformer = Transformer(\n",
    "    execution_input[\"ModelName\"],\n",
    "    1,\n",
    "    'ml.c5.2xlarge',\n",
    "    output_path=f's3://{bucket_name}/sagemaker/batch_transform/output',\n",
    "    sagemaker_session=sagemaker_session,\n",
    "    strategy='MultiRecord',\n",
    "    assemble_with='Line',\n",
    "    env = {\n",
    "        'DEEPAR_INFERENCE_CONFIG': json.dumps(environment_param)\n",
    "    }\n",
    ")\n",
    "\n",
    "transformStep = TransformStep(\n",
    "    state_id = \"Batch Transform Step\",\n",
    "    transformer = transformer,\n",
    "    job_name = execution_input[\"TransformJobName\"],\n",
    "    model_name = execution_input[\"ModelName\"],\n",
    "    data = f\"{output_data}/test/batch_transform_test.json\",\n",
    "    split_type = 'Line'\n",
    ")"
   ]
  },
  {
   "cell_type": "markdown",
   "metadata": {},
   "source": [
    "#### Setup workflow process"
   ]
  },
  {
   "cell_type": "markdown",
   "metadata": {},
   "source": [
    "Create `Fail` state to mark the workflow failed in case any of the steps fail."
   ]
  },
  {
   "cell_type": "code",
   "execution_count": 54,
   "metadata": {},
   "outputs": [],
   "source": [
    "failed_state_sagemaker_pipeline_step_failure = Fail(\n",
    "    \"ML Workflow Failed\", cause = \"SageMakerPipelineStepFailed\"\n",
    ")"
   ]
  },
  {
   "cell_type": "code",
   "execution_count": 55,
   "metadata": {},
   "outputs": [],
   "source": [
    "training_path = Chain([training_step, model_step, transformStep])\n",
    "deploy_existing_model_path = Chain([existing_model_step, transformStep])"
   ]
  },
  {
   "cell_type": "markdown",
   "metadata": {},
   "source": [
    "#### Choice state\n",
    "\n",
    "Now, we need to setup choice state for choose HPO / Training or not. See *Choice Rules* in the [AWS Step Functions Data Science SDK documentation](https://aws-step-functions-data-science-sdk.readthedocs.io) ."
   ]
  },
  {
   "cell_type": "code",
   "execution_count": 56,
   "metadata": {},
   "outputs": [],
   "source": [
    "hpo_choice = Choice(\n",
    "    \"To do HPO?\"\n",
    ")\n",
    "training_choice = Choice(\n",
    "    \"To do Model Training?\"\n",
    ")\n",
    "\n",
    "# refer to execution input variable with required format - not user friendly.\n",
    "hpo_choice.add_choice(\n",
    "    rule = ChoiceRule.BooleanEquals(variable = \"$$.Execution.Input['ToDoHPO']\", value = True),\n",
    "    next_step = tuning_step\n",
    ")\n",
    "hpo_choice.add_choice(\n",
    "    rule = ChoiceRule.BooleanEquals(variable = \"$$.Execution.Input['ToDoHPO']\", value = False),\n",
    "    next_step = training_choice\n",
    ")\n",
    "training_choice.add_choice(\n",
    "    rule = ChoiceRule.BooleanEquals(variable = \"$$.Execution.Input['ToDoTraining']\", value = True),\n",
    "    next_step = training_path\n",
    ")\n",
    "training_choice.add_choice(\n",
    "    rule = ChoiceRule.BooleanEquals(variable = \"$$.Execution.Input['ToDoTraining']\", value = False),\n",
    "    next_step = deploy_existing_model_path\n",
    ")"
   ]
  },
  {
   "cell_type": "markdown",
   "metadata": {},
   "source": [
    "#### Add the Error handling in the workflow"
   ]
  },
  {
   "cell_type": "code",
   "execution_count": 57,
   "metadata": {},
   "outputs": [],
   "source": [
    "catch_state_processing = Catch(\n",
    "    error_equals = [\"States.TaskFailed\"],\n",
    "    next_step = failed_state_sagemaker_pipeline_step_failure   \n",
    ")\n",
    "processing_step.add_catch(catch_state_processing)\n",
    "tuning_step.add_catch(catch_state_processing)\n",
    "training_step.add_catch(catch_state_processing)\n",
    "model_step.add_catch(catch_state_processing)\n",
    "endpoint_config_step.add_catch(catch_state_processing)\n",
    "endpoint_step.add_catch(catch_state_processing)\n",
    "existing_model_step.add_catch(catch_state_processing)"
   ]
  },
  {
   "cell_type": "markdown",
   "metadata": {},
   "source": [
    "### Create and execute the workflow"
   ]
  },
  {
   "cell_type": "code",
   "execution_count": 59,
   "metadata": {},
   "outputs": [],
   "source": [
    "# variables\n",
    "WORKFLOW_NAME = \"AirQualityForecastingWorkflow-04\"\n",
    "TO_DO_HPO = False\n",
    "TO_DO_TRAINING = False"
   ]
  },
  {
   "cell_type": "code",
   "execution_count": 60,
   "metadata": {},
   "outputs": [],
   "source": [
    "#workflow_graph = Chain([processing_step, hpo_choice])\n",
    "workflow_graph = Chain([processing_step, hpo_choice])\n",
    "workflow = Workflow(\n",
    "    name = WORKFLOW_NAME,\n",
    "    definition = workflow_graph,\n",
    "    role = WORKFLOW_EXECUTION_ROLE\n",
    ")\n",
    "workflow.create()\n",
    "# update() to ensure existing workflow can get updated as create() just return ARN for the existing one.\n",
    "workflow.update(definition = workflow_graph) \n",
    "\n",
    "# execute workflow\n",
    "execution = workflow.execute(\n",
    "    inputs = {\n",
    "        \"PreprocessingJobName\": preprocessing_job_name,\n",
    "        \"ToDoHPO\": TO_DO_HPO,\n",
    "        \"ToDoTraining\": TO_DO_TRAINING,\n",
    "        \"TrainingJobName\": training_job_name,\n",
    "        \"TuningJobName\": tuning_job_name,\n",
    "        \"ModelName\": model_job_name,\n",
    "        \"EndpointName\": endpoint_job_name,\n",
    "        \"TransformJobName\": batch_transform_job_name\n",
    "    }\n",
    ")\n",
    "execution_output = execution.get_output(wait = True)"
   ]
  },
  {
   "cell_type": "code",
   "execution_count": 61,
   "metadata": {},
   "outputs": [
    {
     "data": {
      "text/html": [
       "\n",
       "<link rel=\"stylesheet\" type=\"text/css\" href=\"https://do0of8uwbahzz.cloudfront.net/graph.css\">\n",
       "<div id=\"graph-625\" class=\"workflowgraph\">\n",
       "    \n",
       "    <style>\n",
       "        .graph-legend ul {\n",
       "            list-style-type: none;\n",
       "            padding: 10px;\n",
       "            padding-left: 0;\n",
       "            margin: 0;\n",
       "            position: absolute;\n",
       "            top: 0;\n",
       "            background: transparent;\n",
       "        }\n",
       "\n",
       "        .graph-legend li {\n",
       "            margin-left: 10px;\n",
       "            display: inline-block;\n",
       "        }\n",
       "\n",
       "        .graph-legend li > div {\n",
       "            width: 10px;\n",
       "            height: 10px;\n",
       "            display: inline-block;\n",
       "        }\n",
       "\n",
       "        .graph-legend .success { background-color: #2BD62E }\n",
       "        .graph-legend .failed { background-color: #DE322F }\n",
       "        .graph-legend .cancelled { background-color: #DDDDDD }\n",
       "        .graph-legend .in-progress { background-color: #53C9ED }\n",
       "        .graph-legend .caught-error { background-color: #FFA500 }\n",
       "    </style>\n",
       "    <div class=\"graph-legend\">\n",
       "        <ul>\n",
       "            <li>\n",
       "                <div class=\"success\"></div>\n",
       "                <span>Success</span>\n",
       "            </li>\n",
       "            <li>\n",
       "                <div class=\"failed\"></div>\n",
       "                <span>Failed</span>\n",
       "            </li>\n",
       "            <li>\n",
       "                <div class=\"cancelled\"></div>\n",
       "                <span>Cancelled</span>\n",
       "            </li>\n",
       "            <li>\n",
       "                <div class=\"in-progress\"></div>\n",
       "                <span>In Progress</span>\n",
       "            </li>\n",
       "            <li>\n",
       "                <div class=\"caught-error\"></div>\n",
       "                <span>Caught Error</span>\n",
       "            </li>\n",
       "        </ul>\n",
       "    </div>\n",
       "\n",
       "    <svg></svg>\n",
       "    <a href=\"https://console.aws.amazon.com/states/home?region=ap-southeast-2#/executions/details/arn:aws:states:ap-southeast-2:593380422482:execution:AirQualityForecastingWorkflow-04:d0149c36-7cf9-49b1-aad5-fd1d6703de26\" target=\"_blank\"> Inspect in AWS Step Functions </a>\n",
       "</div>\n",
       "\n",
       "<script type=\"text/javascript\">\n",
       "\n",
       "require.config({\n",
       "    paths: {\n",
       "        sfn: \"https://do0of8uwbahzz.cloudfront.net/sfn\",\n",
       "    }\n",
       "});\n",
       "\n",
       "require(['sfn'], function(sfn) {\n",
       "    var element = document.getElementById('graph-625')\n",
       "\n",
       "    var options = {\n",
       "        width: parseFloat(getComputedStyle(element, null).width.replace(\"px\", \"\")),\n",
       "        height: 1000,\n",
       "        layout: 'LR',\n",
       "        resizeHeight: true\n",
       "    };\n",
       "\n",
       "    var definition = {\"StartAt\": \"AirQualityForecasting Preprocessing Step\", \"States\": {\"AirQualityForecasting Preprocessing Step\": {\"Resource\": \"arn:aws:states:::sagemaker:createProcessingJob.sync\", \"Parameters\": {\"ProcessingJobName.$\": \"$$.Execution.Input['PreprocessingJobName']\", \"ProcessingInputs\": [{\"InputName\": \"code\", \"S3Input\": {\"S3Uri\": \"s3://openaq-forecasting-593380422482-ap-southeast-2/preprocessing/code/ml_pipeline_preprocessing.py\", \"LocalPath\": \"/opt/ml/processing/input/code\", \"S3DataType\": \"S3Prefix\", \"S3InputMode\": \"File\", \"S3DataDistributionType\": \"FullyReplicated\", \"S3CompressionType\": \"None\"}}], \"ProcessingOutputConfig\": {\"Outputs\": [{\"OutputName\": \"all_data\", \"S3Output\": {\"S3Uri\": \"s3://openaq-forecasting-593380422482-ap-southeast-2/preprocessing/output/all\", \"LocalPath\": \"/opt/ml/processing/output/all\", \"S3UploadMode\": \"EndOfJob\"}}, {\"OutputName\": \"train_data\", \"S3Output\": {\"S3Uri\": \"s3://openaq-forecasting-593380422482-ap-southeast-2/preprocessing/output/train\", \"LocalPath\": \"/opt/ml/processing/output/train\", \"S3UploadMode\": \"EndOfJob\"}}, {\"OutputName\": \"test_data\", \"S3Output\": {\"S3Uri\": \"s3://openaq-forecasting-593380422482-ap-southeast-2/preprocessing/output/test\", \"LocalPath\": \"/opt/ml/processing/output/test\", \"S3UploadMode\": \"EndOfJob\"}}]}, \"AppSpecification\": {\"ImageUri\": \"593380422482.dkr.ecr.ap-southeast-2.amazonaws.com/air-quality-forecasting-preprocessing:latest\", \"ContainerArguments\": [\"--split-days\", \"30\", \"--region\", \"ap-southeast-2\", \"--bucket-name\", \"openaq-forecasting-593380422482-ap-southeast-2\"], \"ContainerEntrypoint\": [\"python3\", \"/opt/ml/processing/input/code/ml_pipeline_preprocessing.py\"]}, \"RoleArn\": \"arn:aws:iam::593380422482:role/aqf-test-SageMakerRole-14BWFT0J3FV\", \"ProcessingResources\": {\"ClusterConfig\": {\"InstanceCount\": 1, \"InstanceType\": \"ml.m5.2xlarge\", \"VolumeSizeInGB\": 30}}, \"StoppingCondition\": {\"MaxRuntimeInSeconds\": 1200}}, \"Type\": \"Task\", \"Next\": \"To do HPO?\", \"Catch\": [{\"ErrorEquals\": [\"States.TaskFailed\"], \"Next\": \"ML Workflow Failed\"}]}, \"To do HPO?\": {\"Type\": \"Choice\", \"Choices\": [{\"Variable\": \"$$.Execution.Input['ToDoHPO']\", \"BooleanEquals\": true, \"Next\": \"HPO Step\"}, {\"Variable\": \"$$.Execution.Input['ToDoHPO']\", \"BooleanEquals\": false, \"Next\": \"To do Model Training?\"}]}, \"HPO Step\": {\"Resource\": \"arn:aws:states:::sagemaker:createHyperParameterTuningJob.sync\", \"Parameters\": {\"HyperParameterTuningJobName.$\": \"$$.Execution.Input['TuningJobName']\", \"HyperParameterTuningJobConfig\": {\"Strategy\": \"Bayesian\", \"ResourceLimits\": {\"MaxNumberOfTrainingJobs\": 2, \"MaxParallelTrainingJobs\": 1}, \"TrainingJobEarlyStoppingType\": \"Off\", \"HyperParameterTuningJobObjective\": {\"Type\": \"Minimize\", \"MetricName\": \"train:final_loss\"}, \"ParameterRanges\": {\"ContinuousParameterRanges\": [{\"Name\": \"dropout_rate\", \"MinValue\": \"0.0\", \"MaxValue\": \"0.2\", \"ScalingType\": \"Auto\"}, {\"Name\": \"learning_rate\", \"MinValue\": \"1e-05\", \"MaxValue\": \"0.1\", \"ScalingType\": \"Auto\"}], \"CategoricalParameterRanges\": [], \"IntegerParameterRanges\": [{\"Name\": \"epochs\", \"MinValue\": \"1\", \"MaxValue\": \"1000\", \"ScalingType\": \"Auto\"}, {\"Name\": \"context_length\", \"MinValue\": \"7\", \"MaxValue\": \"48\", \"ScalingType\": \"Auto\"}, {\"Name\": \"num_cells\", \"MinValue\": \"30\", \"MaxValue\": \"200\", \"ScalingType\": \"Auto\"}, {\"Name\": \"num_layers\", \"MinValue\": \"1\", \"MaxValue\": \"8\", \"ScalingType\": \"Auto\"}, {\"Name\": \"embedding_dimension\", \"MinValue\": \"1\", \"MaxValue\": \"50\", \"ScalingType\": \"Auto\"}, {\"Name\": \"mini_batch_size\", \"MinValue\": \"32\", \"MaxValue\": \"1028\", \"ScalingType\": \"Auto\"}]}}, \"TrainingJobDefinition\": {\"AlgorithmSpecification\": {\"TrainingImage\": \"514117268639.dkr.ecr.ap-southeast-2.amazonaws.com/forecasting-deepar:1\", \"TrainingInputMode\": \"File\"}, \"OutputDataConfig\": {\"S3OutputPath\": \"s3://openaq-forecasting-593380422482-ap-southeast-2/sagemaker/tuning/output\"}, \"StoppingCondition\": {\"MaxRuntimeInSeconds\": 86400}, \"ResourceConfig\": {\"InstanceCount\": 1, \"InstanceType\": \"ml.g4dn.8xlarge\", \"VolumeSizeInGB\": 30}, \"RoleArn\": \"arn:aws:iam::593380422482:role/aqf-test-SageMakerRole-14BWFT0J3FV\", \"InputDataConfig\": [{\"DataSource\": {\"S3DataSource\": {\"S3DataType\": \"S3Prefix\", \"S3Uri\": \"s3://openaq-forecasting-593380422482-ap-southeast-2/preprocessing/output/train\", \"S3DataDistributionType\": \"FullyReplicated\"}}, \"ChannelName\": \"train\"}, {\"DataSource\": {\"S3DataSource\": {\"S3DataType\": \"S3Prefix\", \"S3Uri\": \"s3://openaq-forecasting-593380422482-ap-southeast-2/preprocessing/output/test\", \"S3DataDistributionType\": \"FullyReplicated\"}}, \"ChannelName\": \"test\"}], \"StaticHyperParameters\": {\"time_freq\": \"1H\", \"early_stopping_patience\": \"40\", \"prediction_length\": \"48\", \"num_eval_samples\": \"10\"}}}, \"Type\": \"Task\", \"End\": true, \"Catch\": [{\"ErrorEquals\": [\"States.TaskFailed\"], \"Next\": \"ML Workflow Failed\"}]}, \"ML Workflow Failed\": {\"Cause\": \"SageMakerPipelineStepFailed\", \"Type\": \"Fail\"}, \"To do Model Training?\": {\"Type\": \"Choice\", \"Choices\": [{\"Variable\": \"$$.Execution.Input['ToDoTraining']\", \"BooleanEquals\": true, \"Next\": \"Training Step\"}, {\"Variable\": \"$$.Execution.Input['ToDoTraining']\", \"BooleanEquals\": false, \"Next\": \"Existing Model\"}]}, \"Training Step\": {\"Resource\": \"arn:aws:states:::sagemaker:createTrainingJob.sync\", \"Parameters\": {\"AlgorithmSpecification\": {\"TrainingImage\": \"514117268639.dkr.ecr.ap-southeast-2.amazonaws.com/forecasting-deepar:1\", \"TrainingInputMode\": \"File\"}, \"OutputDataConfig\": {\"S3OutputPath\": \"s3://openaq-forecasting-593380422482-ap-southeast-2/sagemaker/training/output\"}, \"StoppingCondition\": {\"MaxRuntimeInSeconds\": 86400}, \"ResourceConfig\": {\"InstanceCount\": 1, \"InstanceType\": \"ml.g4dn.8xlarge\", \"VolumeSizeInGB\": 30}, \"RoleArn\": \"arn:aws:iam::593380422482:role/aqf-test-SageMakerRole-14BWFT0J3FV\", \"InputDataConfig\": [{\"DataSource\": {\"S3DataSource\": {\"S3DataType\": \"S3Prefix\", \"S3Uri\": \"s3://openaq-forecasting-593380422482-ap-southeast-2/preprocessing/output/all/all_features.json\", \"S3DataDistributionType\": \"FullyReplicated\"}}, \"ChannelName\": \"train\"}], \"HyperParameters\": {\"time_freq\": \"1H\", \"early_stopping_patience\": \"40\", \"prediction_length\": \"48\", \"num_eval_samples\": \"10\", \"epochs\": \"400\", \"context_length\": \"3\", \"num_cells\": \"157\", \"num_layers\": \"4\", \"dropout_rate\": \"0.04\", \"embedding_dimension\": \"12\", \"mini_batch_size\": \"633\", \"learning_rate\": \"0.0005\"}, \"TrainingJobName.$\": \"$$.Execution.Input['TrainingJobName']\"}, \"Type\": \"Task\", \"Next\": \"Save Model\", \"Catch\": [{\"ErrorEquals\": [\"States.TaskFailed\"], \"Next\": \"ML Workflow Failed\"}]}, \"Save Model\": {\"ResultPath\": \"$.ModelStepResults\", \"Parameters\": {\"ExecutionRoleArn\": \"arn:aws:iam::593380422482:role/aqf-test-SageMakerRole-14BWFT0J3FV\", \"ModelName.$\": \"$$.Execution.Input['ModelName']\", \"PrimaryContainer\": {\"Environment\": {}, \"Image\": \"514117268639.dkr.ecr.ap-southeast-2.amazonaws.com/forecasting-deepar:1\", \"ModelDataUrl.$\": \"$['ModelArtifacts']['S3ModelArtifacts']\"}}, \"Resource\": \"arn:aws:states:::sagemaker:createModel\", \"Type\": \"Task\", \"Next\": \"Batch Transform Step\", \"Catch\": [{\"ErrorEquals\": [\"States.TaskFailed\"], \"Next\": \"ML Workflow Failed\"}]}, \"Batch Transform Step\": {\"Resource\": \"arn:aws:states:::sagemaker:createTransformJob.sync\", \"Parameters\": {\"TransformJobName.$\": \"$$.Execution.Input['TransformJobName']\", \"ModelName.$\": \"$$.Execution.Input['ModelName']\", \"TransformInput\": {\"DataSource\": {\"S3DataSource\": {\"S3DataType\": \"S3Prefix\", \"S3Uri\": \"s3://openaq-forecasting-593380422482-ap-southeast-2/preprocessing/output/test/batch_transform_test.json\"}}, \"SplitType\": \"Line\"}, \"TransformOutput\": {\"S3OutputPath\": \"s3://openaq-forecasting-593380422482-ap-southeast-2/sagemaker/batch_transform/output\", \"AssembleWith\": \"Line\"}, \"TransformResources\": {\"InstanceCount\": 1, \"InstanceType\": \"ml.c5.2xlarge\"}, \"BatchStrategy\": \"MultiRecord\", \"Environment\": {\"DEEPAR_INFERENCE_CONFIG\": \"{\\\"num_samples\\\": 20, \\\"output_types\\\": [\\\"quantiles\\\"], \\\"quantiles\\\": [\\\"0.5\\\"]}\"}}, \"Type\": \"Task\", \"End\": true}, \"Existing Model\": {\"Parameters\": {\"ExecutionRoleArn\": \"arn:aws:iam::593380422482:role/aqf-test-SageMakerRole-14BWFT0J3FV\", \"ModelName.$\": \"$$.Execution.Input['ModelName']\", \"PrimaryContainer\": {\"Environment\": {}, \"Image\": \"514117268639.dkr.ecr.ap-southeast-2.amazonaws.com/forecasting-deepar:1\", \"ModelDataUrl\": \"s3://openaq-forecasting-593380422482-ap-southeast-2/sagemaker/model/model.tar.gz\"}}, \"Resource\": \"arn:aws:states:::sagemaker:createModel\", \"Type\": \"Task\", \"Next\": \"Batch Transform Step\", \"Catch\": [{\"ErrorEquals\": [\"States.TaskFailed\"], \"Next\": \"ML Workflow Failed\"}]}}};\n",
       "    var elementId = '#graph-625';\n",
       "    var events = { 'events': [{\"timestamp\": 1602626865.882, \"type\": \"ExecutionStarted\", \"id\": 1, \"previousEventId\": 0, \"executionStartedEventDetails\": {\"input\": \"{\\n    \\\"PreprocessingJobName\\\": \\\"aqf-preprocessing-77a575640da011eb8684d53e267a241f\\\",\\n    \\\"ToDoHPO\\\": false,\\n    \\\"ToDoTraining\\\": false,\\n    \\\"TrainingJobName\\\": \\\"aqf-training-77a57b220da011eb8684d53e267a241f\\\",\\n    \\\"TuningJobName\\\": \\\"aqf-tuning-77a579060da011eb8684d53e267a241f\\\",\\n    \\\"ModelName\\\": \\\"aqf-model-77a57d2a0da011eb8684d53e267a241f\\\",\\n    \\\"EndpointName\\\": \\\"aqf-endpoint-77a57f460da011eb8684d53e267a241f\\\",\\n    \\\"TransformJobName\\\": \\\"aqf-transform-77a5813a0da011eb8684d53e267a241f\\\"\\n}\", \"inputDetails\": {\"truncated\": false}, \"roleArn\": \"arn:aws:iam::593380422482:role/aqf-test-StepFunctionsWorkflowExecutionRole-1OQTNT7INJ4ZI\"}}, {\"timestamp\": 1602626865.927, \"type\": \"TaskStateEntered\", \"id\": 2, \"previousEventId\": 0, \"stateEnteredEventDetails\": {\"name\": \"AirQualityForecasting Preprocessing Step\", \"input\": \"{\\n    \\\"PreprocessingJobName\\\": \\\"aqf-preprocessing-77a575640da011eb8684d53e267a241f\\\",\\n    \\\"ToDoHPO\\\": false,\\n    \\\"ToDoTraining\\\": false,\\n    \\\"TrainingJobName\\\": \\\"aqf-training-77a57b220da011eb8684d53e267a241f\\\",\\n    \\\"TuningJobName\\\": \\\"aqf-tuning-77a579060da011eb8684d53e267a241f\\\",\\n    \\\"ModelName\\\": \\\"aqf-model-77a57d2a0da011eb8684d53e267a241f\\\",\\n    \\\"EndpointName\\\": \\\"aqf-endpoint-77a57f460da011eb8684d53e267a241f\\\",\\n    \\\"TransformJobName\\\": \\\"aqf-transform-77a5813a0da011eb8684d53e267a241f\\\"\\n}\", \"inputDetails\": {\"truncated\": false}}}, {\"timestamp\": 1602626865.927, \"type\": \"TaskScheduled\", \"id\": 3, \"previousEventId\": 2, \"taskScheduledEventDetails\": {\"resourceType\": \"sagemaker\", \"resource\": \"createProcessingJob.sync\", \"region\": \"ap-southeast-2\", \"parameters\": \"{\\\"ProcessingInputs\\\":[{\\\"InputName\\\":\\\"code\\\",\\\"S3Input\\\":{\\\"S3Uri\\\":\\\"s3://openaq-forecasting-593380422482-ap-southeast-2/preprocessing/code/ml_pipeline_preprocessing.py\\\",\\\"LocalPath\\\":\\\"/opt/ml/processing/input/code\\\",\\\"S3DataType\\\":\\\"S3Prefix\\\",\\\"S3InputMode\\\":\\\"File\\\",\\\"S3DataDistributionType\\\":\\\"FullyReplicated\\\",\\\"S3CompressionType\\\":\\\"None\\\"}}],\\\"ProcessingOutputConfig\\\":{\\\"Outputs\\\":[{\\\"OutputName\\\":\\\"all_data\\\",\\\"S3Output\\\":{\\\"S3Uri\\\":\\\"s3://openaq-forecasting-593380422482-ap-southeast-2/preprocessing/output/all\\\",\\\"LocalPath\\\":\\\"/opt/ml/processing/output/all\\\",\\\"S3UploadMode\\\":\\\"EndOfJob\\\"}},{\\\"OutputName\\\":\\\"train_data\\\",\\\"S3Output\\\":{\\\"S3Uri\\\":\\\"s3://openaq-forecasting-593380422482-ap-southeast-2/preprocessing/output/train\\\",\\\"LocalPath\\\":\\\"/opt/ml/processing/output/train\\\",\\\"S3UploadMode\\\":\\\"EndOfJob\\\"}},{\\\"OutputName\\\":\\\"test_data\\\",\\\"S3Output\\\":{\\\"S3Uri\\\":\\\"s3://openaq-forecasting-593380422482-ap-southeast-2/preprocessing/output/test\\\",\\\"LocalPath\\\":\\\"/opt/ml/processing/output/test\\\",\\\"S3UploadMode\\\":\\\"EndOfJob\\\"}}]},\\\"AppSpecification\\\":{\\\"ImageUri\\\":\\\"593380422482.dkr.ecr.ap-southeast-2.amazonaws.com/air-quality-forecasting-preprocessing:latest\\\",\\\"ContainerArguments\\\":[\\\"--split-days\\\",\\\"30\\\",\\\"--region\\\",\\\"ap-southeast-2\\\",\\\"--bucket-name\\\",\\\"openaq-forecasting-593380422482-ap-southeast-2\\\"],\\\"ContainerEntrypoint\\\":[\\\"python3\\\",\\\"/opt/ml/processing/input/code/ml_pipeline_preprocessing.py\\\"]},\\\"RoleArn\\\":\\\"arn:aws:iam::593380422482:role/aqf-test-SageMakerRole-14BWFT0J3FV\\\",\\\"ProcessingResources\\\":{\\\"ClusterConfig\\\":{\\\"InstanceCount\\\":1,\\\"InstanceType\\\":\\\"ml.m5.2xlarge\\\",\\\"VolumeSizeInGB\\\":30}},\\\"StoppingCondition\\\":{\\\"MaxRuntimeInSeconds\\\":1200},\\\"ProcessingJobName\\\":\\\"aqf-preprocessing-77a575640da011eb8684d53e267a241f\\\",\\\"Tags\\\":[{\\\"Key\\\":\\\"MANAGED_BY_AWS\\\",\\\"Value\\\":\\\"STARTED_BY_STEP_FUNCTIONS\\\"}]}\"}}, {\"timestamp\": 1602626865.999, \"type\": \"TaskStarted\", \"id\": 4, \"previousEventId\": 3, \"taskStartedEventDetails\": {\"resourceType\": \"sagemaker\", \"resource\": \"createProcessingJob.sync\"}}, {\"timestamp\": 1602626866.196, \"type\": \"TaskSubmitted\", \"id\": 5, \"previousEventId\": 4, \"taskSubmittedEventDetails\": {\"resourceType\": \"sagemaker\", \"resource\": \"createProcessingJob.sync\", \"output\": \"{\\\"ProcessingJobArn\\\":\\\"arn:aws:sagemaker:ap-southeast-2:593380422482:processing-job/aqf-preprocessing-77a575640da011eb8684d53e267a241f\\\",\\\"SdkHttpMetadata\\\":{\\\"AllHttpHeaders\\\":{\\\"x-amzn-RequestId\\\":[\\\"a193d2db-f48a-4b36-8ef5-77dc8ba1d3ae\\\"],\\\"Content-Length\\\":[\\\"134\\\"],\\\"Date\\\":[\\\"Tue, 13 Oct 2020 22:07:45 GMT\\\"],\\\"Content-Type\\\":[\\\"application/x-amz-json-1.1\\\"]},\\\"HttpHeaders\\\":{\\\"Content-Length\\\":\\\"134\\\",\\\"Content-Type\\\":\\\"application/x-amz-json-1.1\\\",\\\"Date\\\":\\\"Tue, 13 Oct 2020 22:07:45 GMT\\\",\\\"x-amzn-RequestId\\\":\\\"a193d2db-f48a-4b36-8ef5-77dc8ba1d3ae\\\"},\\\"HttpStatusCode\\\":200},\\\"SdkResponseMetadata\\\":{\\\"RequestId\\\":\\\"a193d2db-f48a-4b36-8ef5-77dc8ba1d3ae\\\"}}\", \"outputDetails\": {\"truncated\": false}}}, {\"timestamp\": 1602627347.207, \"type\": \"TaskSucceeded\", \"id\": 6, \"previousEventId\": 5, \"taskSucceededEventDetails\": {\"resourceType\": \"sagemaker\", \"resource\": \"createProcessingJob.sync\", \"output\": \"{\\\"ProcessingInputs\\\":[{\\\"InputName\\\":\\\"code\\\",\\\"S3Input\\\":{\\\"S3Uri\\\":\\\"s3://openaq-forecasting-593380422482-ap-southeast-2/preprocessing/code/ml_pipeline_preprocessing.py\\\",\\\"LocalPath\\\":\\\"/opt/ml/processing/input/code\\\",\\\"S3DataType\\\":\\\"S3_PREFIX\\\",\\\"S3InputMode\\\":\\\"FILE\\\",\\\"S3DataDistributionType\\\":\\\"FULLYREPLICATED\\\"}}],\\\"ProcessingOutputConfig\\\":{\\\"Outputs\\\":[{\\\"OutputName\\\":\\\"all_data\\\",\\\"S3Output\\\":{\\\"S3Uri\\\":\\\"s3://openaq-forecasting-593380422482-ap-southeast-2/preprocessing/output/all\\\",\\\"LocalPath\\\":\\\"/opt/ml/processing/output/all\\\",\\\"S3UploadMode\\\":\\\"END_OF_JOB\\\"}},{\\\"OutputName\\\":\\\"train_data\\\",\\\"S3Output\\\":{\\\"S3Uri\\\":\\\"s3://openaq-forecasting-593380422482-ap-southeast-2/preprocessing/output/train\\\",\\\"LocalPath\\\":\\\"/opt/ml/processing/output/train\\\",\\\"S3UploadMode\\\":\\\"END_OF_JOB\\\"}},{\\\"OutputName\\\":\\\"test_data\\\",\\\"S3Output\\\":{\\\"S3Uri\\\":\\\"s3://openaq-forecasting-593380422482-ap-southeast-2/preprocessing/output/test\\\",\\\"LocalPath\\\":\\\"/opt/ml/processing/output/test\\\",\\\"S3UploadMode\\\":\\\"END_OF_JOB\\\"}}]},\\\"ProcessingJobName\\\":\\\"aqf-preprocessing-77a575640da011eb8684d53e267a241f\\\",\\\"ProcessingResources\\\":{\\\"ClusterConfig\\\":{\\\"InstanceCount\\\":1.0,\\\"InstanceType\\\":\\\"ml.m5.2xlarge\\\",\\\"VolumeSizeInGB\\\":30.0}},\\\"StoppingCondition\\\":{\\\"MaxRuntimeInSeconds\\\":1200.0},\\\"AppSpecification\\\":{\\\"ImageUri\\\":\\\"593380422482.dkr.ecr.ap-southeast-2.amazonaws.com/air-quality-forecasting-preprocessing:latest\\\",\\\"ContainerEntrypoint\\\":[\\\"python3\\\",\\\"/opt/ml/processing/input/code/ml_pipeline_preprocessing.py\\\"],\\\"ContainerArguments\\\":[\\\"--split-days\\\",\\\"30\\\",\\\"--region\\\",\\\"ap-southeast-2\\\",\\\"--bucket-name\\\",\\\"openaq-forecasting-593380422482-ap-southeast-2\\\"]},\\\"RoleArn\\\":\\\"arn:aws:iam::593380422482:role/aqf-test-SageMakerRole-14BWFT0J3FV\\\",\\\"ExperimentConfig\\\":{},\\\"ProcessingJobArn\\\":\\\"arn:aws:sagemaker:ap-southeast-2:593380422482:processing-job/aqf-preprocessing-77a575640da011eb8684d53e267a241f\\\",\\\"ProcessingJobStatus\\\":\\\"Completed\\\",\\\"ProcessingEndTime\\\":1.602627337E12,\\\"ProcessingStartTime\\\":1.602627056E12,\\\"LastModifiedTime\\\":1.602627337E12,\\\"CreationTime\\\":1.602626866E12,\\\"Tags\\\":{\\\"AWS_STEP_FUNCTIONS_EXECUTION_ARN\\\":\\\"arn:aws:states:ap-southeast-2:593380422482:execution:AirQualityForecastingWorkflow-04:d0149c36-7cf9-49b1-aad5-fd1d6703de26\\\",\\\"MANAGED_BY_AWS\\\":\\\"STARTED_BY_STEP_FUNCTIONS\\\"}}\", \"outputDetails\": {\"truncated\": false}}}, {\"timestamp\": 1602627347.207, \"type\": \"TaskStateExited\", \"id\": 7, \"previousEventId\": 6, \"stateExitedEventDetails\": {\"name\": \"AirQualityForecasting Preprocessing Step\", \"output\": \"{\\\"ProcessingInputs\\\":[{\\\"InputName\\\":\\\"code\\\",\\\"S3Input\\\":{\\\"S3Uri\\\":\\\"s3://openaq-forecasting-593380422482-ap-southeast-2/preprocessing/code/ml_pipeline_preprocessing.py\\\",\\\"LocalPath\\\":\\\"/opt/ml/processing/input/code\\\",\\\"S3DataType\\\":\\\"S3_PREFIX\\\",\\\"S3InputMode\\\":\\\"FILE\\\",\\\"S3DataDistributionType\\\":\\\"FULLYREPLICATED\\\"}}],\\\"ProcessingOutputConfig\\\":{\\\"Outputs\\\":[{\\\"OutputName\\\":\\\"all_data\\\",\\\"S3Output\\\":{\\\"S3Uri\\\":\\\"s3://openaq-forecasting-593380422482-ap-southeast-2/preprocessing/output/all\\\",\\\"LocalPath\\\":\\\"/opt/ml/processing/output/all\\\",\\\"S3UploadMode\\\":\\\"END_OF_JOB\\\"}},{\\\"OutputName\\\":\\\"train_data\\\",\\\"S3Output\\\":{\\\"S3Uri\\\":\\\"s3://openaq-forecasting-593380422482-ap-southeast-2/preprocessing/output/train\\\",\\\"LocalPath\\\":\\\"/opt/ml/processing/output/train\\\",\\\"S3UploadMode\\\":\\\"END_OF_JOB\\\"}},{\\\"OutputName\\\":\\\"test_data\\\",\\\"S3Output\\\":{\\\"S3Uri\\\":\\\"s3://openaq-forecasting-593380422482-ap-southeast-2/preprocessing/output/test\\\",\\\"LocalPath\\\":\\\"/opt/ml/processing/output/test\\\",\\\"S3UploadMode\\\":\\\"END_OF_JOB\\\"}}]},\\\"ProcessingJobName\\\":\\\"aqf-preprocessing-77a575640da011eb8684d53e267a241f\\\",\\\"ProcessingResources\\\":{\\\"ClusterConfig\\\":{\\\"InstanceCount\\\":1.0,\\\"InstanceType\\\":\\\"ml.m5.2xlarge\\\",\\\"VolumeSizeInGB\\\":30.0}},\\\"StoppingCondition\\\":{\\\"MaxRuntimeInSeconds\\\":1200.0},\\\"AppSpecification\\\":{\\\"ImageUri\\\":\\\"593380422482.dkr.ecr.ap-southeast-2.amazonaws.com/air-quality-forecasting-preprocessing:latest\\\",\\\"ContainerEntrypoint\\\":[\\\"python3\\\",\\\"/opt/ml/processing/input/code/ml_pipeline_preprocessing.py\\\"],\\\"ContainerArguments\\\":[\\\"--split-days\\\",\\\"30\\\",\\\"--region\\\",\\\"ap-southeast-2\\\",\\\"--bucket-name\\\",\\\"openaq-forecasting-593380422482-ap-southeast-2\\\"]},\\\"RoleArn\\\":\\\"arn:aws:iam::593380422482:role/aqf-test-SageMakerRole-14BWFT0J3FV\\\",\\\"ExperimentConfig\\\":{},\\\"ProcessingJobArn\\\":\\\"arn:aws:sagemaker:ap-southeast-2:593380422482:processing-job/aqf-preprocessing-77a575640da011eb8684d53e267a241f\\\",\\\"ProcessingJobStatus\\\":\\\"Completed\\\",\\\"ProcessingEndTime\\\":1.602627337E12,\\\"ProcessingStartTime\\\":1.602627056E12,\\\"LastModifiedTime\\\":1.602627337E12,\\\"CreationTime\\\":1.602626866E12,\\\"Tags\\\":{\\\"AWS_STEP_FUNCTIONS_EXECUTION_ARN\\\":\\\"arn:aws:states:ap-southeast-2:593380422482:execution:AirQualityForecastingWorkflow-04:d0149c36-7cf9-49b1-aad5-fd1d6703de26\\\",\\\"MANAGED_BY_AWS\\\":\\\"STARTED_BY_STEP_FUNCTIONS\\\"}}\", \"outputDetails\": {\"truncated\": false}}}, {\"timestamp\": 1602627347.22, \"type\": \"ChoiceStateEntered\", \"id\": 8, \"previousEventId\": 7, \"stateEnteredEventDetails\": {\"name\": \"To do HPO?\", \"input\": \"{\\\"ProcessingInputs\\\":[{\\\"InputName\\\":\\\"code\\\",\\\"S3Input\\\":{\\\"S3Uri\\\":\\\"s3://openaq-forecasting-593380422482-ap-southeast-2/preprocessing/code/ml_pipeline_preprocessing.py\\\",\\\"LocalPath\\\":\\\"/opt/ml/processing/input/code\\\",\\\"S3DataType\\\":\\\"S3_PREFIX\\\",\\\"S3InputMode\\\":\\\"FILE\\\",\\\"S3DataDistributionType\\\":\\\"FULLYREPLICATED\\\"}}],\\\"ProcessingOutputConfig\\\":{\\\"Outputs\\\":[{\\\"OutputName\\\":\\\"all_data\\\",\\\"S3Output\\\":{\\\"S3Uri\\\":\\\"s3://openaq-forecasting-593380422482-ap-southeast-2/preprocessing/output/all\\\",\\\"LocalPath\\\":\\\"/opt/ml/processing/output/all\\\",\\\"S3UploadMode\\\":\\\"END_OF_JOB\\\"}},{\\\"OutputName\\\":\\\"train_data\\\",\\\"S3Output\\\":{\\\"S3Uri\\\":\\\"s3://openaq-forecasting-593380422482-ap-southeast-2/preprocessing/output/train\\\",\\\"LocalPath\\\":\\\"/opt/ml/processing/output/train\\\",\\\"S3UploadMode\\\":\\\"END_OF_JOB\\\"}},{\\\"OutputName\\\":\\\"test_data\\\",\\\"S3Output\\\":{\\\"S3Uri\\\":\\\"s3://openaq-forecasting-593380422482-ap-southeast-2/preprocessing/output/test\\\",\\\"LocalPath\\\":\\\"/opt/ml/processing/output/test\\\",\\\"S3UploadMode\\\":\\\"END_OF_JOB\\\"}}]},\\\"ProcessingJobName\\\":\\\"aqf-preprocessing-77a575640da011eb8684d53e267a241f\\\",\\\"ProcessingResources\\\":{\\\"ClusterConfig\\\":{\\\"InstanceCount\\\":1.0,\\\"InstanceType\\\":\\\"ml.m5.2xlarge\\\",\\\"VolumeSizeInGB\\\":30.0}},\\\"StoppingCondition\\\":{\\\"MaxRuntimeInSeconds\\\":1200.0},\\\"AppSpecification\\\":{\\\"ImageUri\\\":\\\"593380422482.dkr.ecr.ap-southeast-2.amazonaws.com/air-quality-forecasting-preprocessing:latest\\\",\\\"ContainerEntrypoint\\\":[\\\"python3\\\",\\\"/opt/ml/processing/input/code/ml_pipeline_preprocessing.py\\\"],\\\"ContainerArguments\\\":[\\\"--split-days\\\",\\\"30\\\",\\\"--region\\\",\\\"ap-southeast-2\\\",\\\"--bucket-name\\\",\\\"openaq-forecasting-593380422482-ap-southeast-2\\\"]},\\\"RoleArn\\\":\\\"arn:aws:iam::593380422482:role/aqf-test-SageMakerRole-14BWFT0J3FV\\\",\\\"ExperimentConfig\\\":{},\\\"ProcessingJobArn\\\":\\\"arn:aws:sagemaker:ap-southeast-2:593380422482:processing-job/aqf-preprocessing-77a575640da011eb8684d53e267a241f\\\",\\\"ProcessingJobStatus\\\":\\\"Completed\\\",\\\"ProcessingEndTime\\\":1.602627337E12,\\\"ProcessingStartTime\\\":1.602627056E12,\\\"LastModifiedTime\\\":1.602627337E12,\\\"CreationTime\\\":1.602626866E12,\\\"Tags\\\":{\\\"AWS_STEP_FUNCTIONS_EXECUTION_ARN\\\":\\\"arn:aws:states:ap-southeast-2:593380422482:execution:AirQualityForecastingWorkflow-04:d0149c36-7cf9-49b1-aad5-fd1d6703de26\\\",\\\"MANAGED_BY_AWS\\\":\\\"STARTED_BY_STEP_FUNCTIONS\\\"}}\", \"inputDetails\": {\"truncated\": false}}}, {\"timestamp\": 1602627347.22, \"type\": \"ChoiceStateExited\", \"id\": 9, \"previousEventId\": 8, \"stateExitedEventDetails\": {\"name\": \"To do HPO?\", \"output\": \"{\\\"ProcessingInputs\\\":[{\\\"InputName\\\":\\\"code\\\",\\\"S3Input\\\":{\\\"S3Uri\\\":\\\"s3://openaq-forecasting-593380422482-ap-southeast-2/preprocessing/code/ml_pipeline_preprocessing.py\\\",\\\"LocalPath\\\":\\\"/opt/ml/processing/input/code\\\",\\\"S3DataType\\\":\\\"S3_PREFIX\\\",\\\"S3InputMode\\\":\\\"FILE\\\",\\\"S3DataDistributionType\\\":\\\"FULLYREPLICATED\\\"}}],\\\"ProcessingOutputConfig\\\":{\\\"Outputs\\\":[{\\\"OutputName\\\":\\\"all_data\\\",\\\"S3Output\\\":{\\\"S3Uri\\\":\\\"s3://openaq-forecasting-593380422482-ap-southeast-2/preprocessing/output/all\\\",\\\"LocalPath\\\":\\\"/opt/ml/processing/output/all\\\",\\\"S3UploadMode\\\":\\\"END_OF_JOB\\\"}},{\\\"OutputName\\\":\\\"train_data\\\",\\\"S3Output\\\":{\\\"S3Uri\\\":\\\"s3://openaq-forecasting-593380422482-ap-southeast-2/preprocessing/output/train\\\",\\\"LocalPath\\\":\\\"/opt/ml/processing/output/train\\\",\\\"S3UploadMode\\\":\\\"END_OF_JOB\\\"}},{\\\"OutputName\\\":\\\"test_data\\\",\\\"S3Output\\\":{\\\"S3Uri\\\":\\\"s3://openaq-forecasting-593380422482-ap-southeast-2/preprocessing/output/test\\\",\\\"LocalPath\\\":\\\"/opt/ml/processing/output/test\\\",\\\"S3UploadMode\\\":\\\"END_OF_JOB\\\"}}]},\\\"ProcessingJobName\\\":\\\"aqf-preprocessing-77a575640da011eb8684d53e267a241f\\\",\\\"ProcessingResources\\\":{\\\"ClusterConfig\\\":{\\\"InstanceCount\\\":1.0,\\\"InstanceType\\\":\\\"ml.m5.2xlarge\\\",\\\"VolumeSizeInGB\\\":30.0}},\\\"StoppingCondition\\\":{\\\"MaxRuntimeInSeconds\\\":1200.0},\\\"AppSpecification\\\":{\\\"ImageUri\\\":\\\"593380422482.dkr.ecr.ap-southeast-2.amazonaws.com/air-quality-forecasting-preprocessing:latest\\\",\\\"ContainerEntrypoint\\\":[\\\"python3\\\",\\\"/opt/ml/processing/input/code/ml_pipeline_preprocessing.py\\\"],\\\"ContainerArguments\\\":[\\\"--split-days\\\",\\\"30\\\",\\\"--region\\\",\\\"ap-southeast-2\\\",\\\"--bucket-name\\\",\\\"openaq-forecasting-593380422482-ap-southeast-2\\\"]},\\\"RoleArn\\\":\\\"arn:aws:iam::593380422482:role/aqf-test-SageMakerRole-14BWFT0J3FV\\\",\\\"ExperimentConfig\\\":{},\\\"ProcessingJobArn\\\":\\\"arn:aws:sagemaker:ap-southeast-2:593380422482:processing-job/aqf-preprocessing-77a575640da011eb8684d53e267a241f\\\",\\\"ProcessingJobStatus\\\":\\\"Completed\\\",\\\"ProcessingEndTime\\\":1.602627337E12,\\\"ProcessingStartTime\\\":1.602627056E12,\\\"LastModifiedTime\\\":1.602627337E12,\\\"CreationTime\\\":1.602626866E12,\\\"Tags\\\":{\\\"AWS_STEP_FUNCTIONS_EXECUTION_ARN\\\":\\\"arn:aws:states:ap-southeast-2:593380422482:execution:AirQualityForecastingWorkflow-04:d0149c36-7cf9-49b1-aad5-fd1d6703de26\\\",\\\"MANAGED_BY_AWS\\\":\\\"STARTED_BY_STEP_FUNCTIONS\\\"}}\", \"outputDetails\": {\"truncated\": false}}}, {\"timestamp\": 1602627347.32, \"type\": \"ChoiceStateEntered\", \"id\": 10, \"previousEventId\": 9, \"stateEnteredEventDetails\": {\"name\": \"To do Model Training?\", \"input\": \"{\\\"ProcessingInputs\\\":[{\\\"InputName\\\":\\\"code\\\",\\\"S3Input\\\":{\\\"S3Uri\\\":\\\"s3://openaq-forecasting-593380422482-ap-southeast-2/preprocessing/code/ml_pipeline_preprocessing.py\\\",\\\"LocalPath\\\":\\\"/opt/ml/processing/input/code\\\",\\\"S3DataType\\\":\\\"S3_PREFIX\\\",\\\"S3InputMode\\\":\\\"FILE\\\",\\\"S3DataDistributionType\\\":\\\"FULLYREPLICATED\\\"}}],\\\"ProcessingOutputConfig\\\":{\\\"Outputs\\\":[{\\\"OutputName\\\":\\\"all_data\\\",\\\"S3Output\\\":{\\\"S3Uri\\\":\\\"s3://openaq-forecasting-593380422482-ap-southeast-2/preprocessing/output/all\\\",\\\"LocalPath\\\":\\\"/opt/ml/processing/output/all\\\",\\\"S3UploadMode\\\":\\\"END_OF_JOB\\\"}},{\\\"OutputName\\\":\\\"train_data\\\",\\\"S3Output\\\":{\\\"S3Uri\\\":\\\"s3://openaq-forecasting-593380422482-ap-southeast-2/preprocessing/output/train\\\",\\\"LocalPath\\\":\\\"/opt/ml/processing/output/train\\\",\\\"S3UploadMode\\\":\\\"END_OF_JOB\\\"}},{\\\"OutputName\\\":\\\"test_data\\\",\\\"S3Output\\\":{\\\"S3Uri\\\":\\\"s3://openaq-forecasting-593380422482-ap-southeast-2/preprocessing/output/test\\\",\\\"LocalPath\\\":\\\"/opt/ml/processing/output/test\\\",\\\"S3UploadMode\\\":\\\"END_OF_JOB\\\"}}]},\\\"ProcessingJobName\\\":\\\"aqf-preprocessing-77a575640da011eb8684d53e267a241f\\\",\\\"ProcessingResources\\\":{\\\"ClusterConfig\\\":{\\\"InstanceCount\\\":1.0,\\\"InstanceType\\\":\\\"ml.m5.2xlarge\\\",\\\"VolumeSizeInGB\\\":30.0}},\\\"StoppingCondition\\\":{\\\"MaxRuntimeInSeconds\\\":1200.0},\\\"AppSpecification\\\":{\\\"ImageUri\\\":\\\"593380422482.dkr.ecr.ap-southeast-2.amazonaws.com/air-quality-forecasting-preprocessing:latest\\\",\\\"ContainerEntrypoint\\\":[\\\"python3\\\",\\\"/opt/ml/processing/input/code/ml_pipeline_preprocessing.py\\\"],\\\"ContainerArguments\\\":[\\\"--split-days\\\",\\\"30\\\",\\\"--region\\\",\\\"ap-southeast-2\\\",\\\"--bucket-name\\\",\\\"openaq-forecasting-593380422482-ap-southeast-2\\\"]},\\\"RoleArn\\\":\\\"arn:aws:iam::593380422482:role/aqf-test-SageMakerRole-14BWFT0J3FV\\\",\\\"ExperimentConfig\\\":{},\\\"ProcessingJobArn\\\":\\\"arn:aws:sagemaker:ap-southeast-2:593380422482:processing-job/aqf-preprocessing-77a575640da011eb8684d53e267a241f\\\",\\\"ProcessingJobStatus\\\":\\\"Completed\\\",\\\"ProcessingEndTime\\\":1.602627337E12,\\\"ProcessingStartTime\\\":1.602627056E12,\\\"LastModifiedTime\\\":1.602627337E12,\\\"CreationTime\\\":1.602626866E12,\\\"Tags\\\":{\\\"AWS_STEP_FUNCTIONS_EXECUTION_ARN\\\":\\\"arn:aws:states:ap-southeast-2:593380422482:execution:AirQualityForecastingWorkflow-04:d0149c36-7cf9-49b1-aad5-fd1d6703de26\\\",\\\"MANAGED_BY_AWS\\\":\\\"STARTED_BY_STEP_FUNCTIONS\\\"}}\", \"inputDetails\": {\"truncated\": false}}}, {\"timestamp\": 1602627347.32, \"type\": \"ChoiceStateExited\", \"id\": 11, \"previousEventId\": 10, \"stateExitedEventDetails\": {\"name\": \"To do Model Training?\", \"output\": \"{\\\"ProcessingInputs\\\":[{\\\"InputName\\\":\\\"code\\\",\\\"S3Input\\\":{\\\"S3Uri\\\":\\\"s3://openaq-forecasting-593380422482-ap-southeast-2/preprocessing/code/ml_pipeline_preprocessing.py\\\",\\\"LocalPath\\\":\\\"/opt/ml/processing/input/code\\\",\\\"S3DataType\\\":\\\"S3_PREFIX\\\",\\\"S3InputMode\\\":\\\"FILE\\\",\\\"S3DataDistributionType\\\":\\\"FULLYREPLICATED\\\"}}],\\\"ProcessingOutputConfig\\\":{\\\"Outputs\\\":[{\\\"OutputName\\\":\\\"all_data\\\",\\\"S3Output\\\":{\\\"S3Uri\\\":\\\"s3://openaq-forecasting-593380422482-ap-southeast-2/preprocessing/output/all\\\",\\\"LocalPath\\\":\\\"/opt/ml/processing/output/all\\\",\\\"S3UploadMode\\\":\\\"END_OF_JOB\\\"}},{\\\"OutputName\\\":\\\"train_data\\\",\\\"S3Output\\\":{\\\"S3Uri\\\":\\\"s3://openaq-forecasting-593380422482-ap-southeast-2/preprocessing/output/train\\\",\\\"LocalPath\\\":\\\"/opt/ml/processing/output/train\\\",\\\"S3UploadMode\\\":\\\"END_OF_JOB\\\"}},{\\\"OutputName\\\":\\\"test_data\\\",\\\"S3Output\\\":{\\\"S3Uri\\\":\\\"s3://openaq-forecasting-593380422482-ap-southeast-2/preprocessing/output/test\\\",\\\"LocalPath\\\":\\\"/opt/ml/processing/output/test\\\",\\\"S3UploadMode\\\":\\\"END_OF_JOB\\\"}}]},\\\"ProcessingJobName\\\":\\\"aqf-preprocessing-77a575640da011eb8684d53e267a241f\\\",\\\"ProcessingResources\\\":{\\\"ClusterConfig\\\":{\\\"InstanceCount\\\":1.0,\\\"InstanceType\\\":\\\"ml.m5.2xlarge\\\",\\\"VolumeSizeInGB\\\":30.0}},\\\"StoppingCondition\\\":{\\\"MaxRuntimeInSeconds\\\":1200.0},\\\"AppSpecification\\\":{\\\"ImageUri\\\":\\\"593380422482.dkr.ecr.ap-southeast-2.amazonaws.com/air-quality-forecasting-preprocessing:latest\\\",\\\"ContainerEntrypoint\\\":[\\\"python3\\\",\\\"/opt/ml/processing/input/code/ml_pipeline_preprocessing.py\\\"],\\\"ContainerArguments\\\":[\\\"--split-days\\\",\\\"30\\\",\\\"--region\\\",\\\"ap-southeast-2\\\",\\\"--bucket-name\\\",\\\"openaq-forecasting-593380422482-ap-southeast-2\\\"]},\\\"RoleArn\\\":\\\"arn:aws:iam::593380422482:role/aqf-test-SageMakerRole-14BWFT0J3FV\\\",\\\"ExperimentConfig\\\":{},\\\"ProcessingJobArn\\\":\\\"arn:aws:sagemaker:ap-southeast-2:593380422482:processing-job/aqf-preprocessing-77a575640da011eb8684d53e267a241f\\\",\\\"ProcessingJobStatus\\\":\\\"Completed\\\",\\\"ProcessingEndTime\\\":1.602627337E12,\\\"ProcessingStartTime\\\":1.602627056E12,\\\"LastModifiedTime\\\":1.602627337E12,\\\"CreationTime\\\":1.602626866E12,\\\"Tags\\\":{\\\"AWS_STEP_FUNCTIONS_EXECUTION_ARN\\\":\\\"arn:aws:states:ap-southeast-2:593380422482:execution:AirQualityForecastingWorkflow-04:d0149c36-7cf9-49b1-aad5-fd1d6703de26\\\",\\\"MANAGED_BY_AWS\\\":\\\"STARTED_BY_STEP_FUNCTIONS\\\"}}\", \"outputDetails\": {\"truncated\": false}}}, {\"timestamp\": 1602627347.42, \"type\": \"TaskStateEntered\", \"id\": 12, \"previousEventId\": 11, \"stateEnteredEventDetails\": {\"name\": \"Existing Model\", \"input\": \"{\\\"ProcessingInputs\\\":[{\\\"InputName\\\":\\\"code\\\",\\\"S3Input\\\":{\\\"S3Uri\\\":\\\"s3://openaq-forecasting-593380422482-ap-southeast-2/preprocessing/code/ml_pipeline_preprocessing.py\\\",\\\"LocalPath\\\":\\\"/opt/ml/processing/input/code\\\",\\\"S3DataType\\\":\\\"S3_PREFIX\\\",\\\"S3InputMode\\\":\\\"FILE\\\",\\\"S3DataDistributionType\\\":\\\"FULLYREPLICATED\\\"}}],\\\"ProcessingOutputConfig\\\":{\\\"Outputs\\\":[{\\\"OutputName\\\":\\\"all_data\\\",\\\"S3Output\\\":{\\\"S3Uri\\\":\\\"s3://openaq-forecasting-593380422482-ap-southeast-2/preprocessing/output/all\\\",\\\"LocalPath\\\":\\\"/opt/ml/processing/output/all\\\",\\\"S3UploadMode\\\":\\\"END_OF_JOB\\\"}},{\\\"OutputName\\\":\\\"train_data\\\",\\\"S3Output\\\":{\\\"S3Uri\\\":\\\"s3://openaq-forecasting-593380422482-ap-southeast-2/preprocessing/output/train\\\",\\\"LocalPath\\\":\\\"/opt/ml/processing/output/train\\\",\\\"S3UploadMode\\\":\\\"END_OF_JOB\\\"}},{\\\"OutputName\\\":\\\"test_data\\\",\\\"S3Output\\\":{\\\"S3Uri\\\":\\\"s3://openaq-forecasting-593380422482-ap-southeast-2/preprocessing/output/test\\\",\\\"LocalPath\\\":\\\"/opt/ml/processing/output/test\\\",\\\"S3UploadMode\\\":\\\"END_OF_JOB\\\"}}]},\\\"ProcessingJobName\\\":\\\"aqf-preprocessing-77a575640da011eb8684d53e267a241f\\\",\\\"ProcessingResources\\\":{\\\"ClusterConfig\\\":{\\\"InstanceCount\\\":1.0,\\\"InstanceType\\\":\\\"ml.m5.2xlarge\\\",\\\"VolumeSizeInGB\\\":30.0}},\\\"StoppingCondition\\\":{\\\"MaxRuntimeInSeconds\\\":1200.0},\\\"AppSpecification\\\":{\\\"ImageUri\\\":\\\"593380422482.dkr.ecr.ap-southeast-2.amazonaws.com/air-quality-forecasting-preprocessing:latest\\\",\\\"ContainerEntrypoint\\\":[\\\"python3\\\",\\\"/opt/ml/processing/input/code/ml_pipeline_preprocessing.py\\\"],\\\"ContainerArguments\\\":[\\\"--split-days\\\",\\\"30\\\",\\\"--region\\\",\\\"ap-southeast-2\\\",\\\"--bucket-name\\\",\\\"openaq-forecasting-593380422482-ap-southeast-2\\\"]},\\\"RoleArn\\\":\\\"arn:aws:iam::593380422482:role/aqf-test-SageMakerRole-14BWFT0J3FV\\\",\\\"ExperimentConfig\\\":{},\\\"ProcessingJobArn\\\":\\\"arn:aws:sagemaker:ap-southeast-2:593380422482:processing-job/aqf-preprocessing-77a575640da011eb8684d53e267a241f\\\",\\\"ProcessingJobStatus\\\":\\\"Completed\\\",\\\"ProcessingEndTime\\\":1.602627337E12,\\\"ProcessingStartTime\\\":1.602627056E12,\\\"LastModifiedTime\\\":1.602627337E12,\\\"CreationTime\\\":1.602626866E12,\\\"Tags\\\":{\\\"AWS_STEP_FUNCTIONS_EXECUTION_ARN\\\":\\\"arn:aws:states:ap-southeast-2:593380422482:execution:AirQualityForecastingWorkflow-04:d0149c36-7cf9-49b1-aad5-fd1d6703de26\\\",\\\"MANAGED_BY_AWS\\\":\\\"STARTED_BY_STEP_FUNCTIONS\\\"}}\", \"inputDetails\": {\"truncated\": false}}}, {\"timestamp\": 1602627347.42, \"type\": \"TaskScheduled\", \"id\": 13, \"previousEventId\": 12, \"taskScheduledEventDetails\": {\"resourceType\": \"sagemaker\", \"resource\": \"createModel\", \"region\": \"ap-southeast-2\", \"parameters\": \"{\\\"ExecutionRoleArn\\\":\\\"arn:aws:iam::593380422482:role/aqf-test-SageMakerRole-14BWFT0J3FV\\\",\\\"PrimaryContainer\\\":{\\\"Environment\\\":{},\\\"Image\\\":\\\"514117268639.dkr.ecr.ap-southeast-2.amazonaws.com/forecasting-deepar:1\\\",\\\"ModelDataUrl\\\":\\\"s3://openaq-forecasting-593380422482-ap-southeast-2/sagemaker/model/model.tar.gz\\\"},\\\"ModelName\\\":\\\"aqf-model-77a57d2a0da011eb8684d53e267a241f\\\"}\"}}, {\"timestamp\": 1602627347.433, \"type\": \"TaskStarted\", \"id\": 14, \"previousEventId\": 13, \"taskStartedEventDetails\": {\"resourceType\": \"sagemaker\", \"resource\": \"createModel\"}}, {\"timestamp\": 1602627347.887, \"type\": \"TaskSucceeded\", \"id\": 15, \"previousEventId\": 14, \"taskSucceededEventDetails\": {\"resourceType\": \"sagemaker\", \"resource\": \"createModel\", \"output\": \"{\\\"ModelArn\\\":\\\"arn:aws:sagemaker:ap-southeast-2:593380422482:model/aqf-model-77a57d2a0da011eb8684d53e267a241f\\\",\\\"SdkHttpMetadata\\\":{\\\"AllHttpHeaders\\\":{\\\"x-amzn-RequestId\\\":[\\\"0b3956f3-89e5-4b2d-92e5-bb030cc736bd\\\"],\\\"Content-Length\\\":[\\\"109\\\"],\\\"Date\\\":[\\\"Tue, 13 Oct 2020 22:15:47 GMT\\\"],\\\"Content-Type\\\":[\\\"application/x-amz-json-1.1\\\"]},\\\"HttpHeaders\\\":{\\\"Content-Length\\\":\\\"109\\\",\\\"Content-Type\\\":\\\"application/x-amz-json-1.1\\\",\\\"Date\\\":\\\"Tue, 13 Oct 2020 22:15:47 GMT\\\",\\\"x-amzn-RequestId\\\":\\\"0b3956f3-89e5-4b2d-92e5-bb030cc736bd\\\"},\\\"HttpStatusCode\\\":200},\\\"SdkResponseMetadata\\\":{\\\"RequestId\\\":\\\"0b3956f3-89e5-4b2d-92e5-bb030cc736bd\\\"}}\", \"outputDetails\": {\"truncated\": false}}}, {\"timestamp\": 1602627347.887, \"type\": \"TaskStateExited\", \"id\": 16, \"previousEventId\": 15, \"stateExitedEventDetails\": {\"name\": \"Existing Model\", \"output\": \"{\\\"ModelArn\\\":\\\"arn:aws:sagemaker:ap-southeast-2:593380422482:model/aqf-model-77a57d2a0da011eb8684d53e267a241f\\\",\\\"SdkHttpMetadata\\\":{\\\"AllHttpHeaders\\\":{\\\"x-amzn-RequestId\\\":[\\\"0b3956f3-89e5-4b2d-92e5-bb030cc736bd\\\"],\\\"Content-Length\\\":[\\\"109\\\"],\\\"Date\\\":[\\\"Tue, 13 Oct 2020 22:15:47 GMT\\\"],\\\"Content-Type\\\":[\\\"application/x-amz-json-1.1\\\"]},\\\"HttpHeaders\\\":{\\\"Content-Length\\\":\\\"109\\\",\\\"Content-Type\\\":\\\"application/x-amz-json-1.1\\\",\\\"Date\\\":\\\"Tue, 13 Oct 2020 22:15:47 GMT\\\",\\\"x-amzn-RequestId\\\":\\\"0b3956f3-89e5-4b2d-92e5-bb030cc736bd\\\"},\\\"HttpStatusCode\\\":200},\\\"SdkResponseMetadata\\\":{\\\"RequestId\\\":\\\"0b3956f3-89e5-4b2d-92e5-bb030cc736bd\\\"}}\", \"outputDetails\": {\"truncated\": false}}}, {\"timestamp\": 1602627347.895, \"type\": \"TaskStateEntered\", \"id\": 17, \"previousEventId\": 16, \"stateEnteredEventDetails\": {\"name\": \"Batch Transform Step\", \"input\": \"{\\\"ModelArn\\\":\\\"arn:aws:sagemaker:ap-southeast-2:593380422482:model/aqf-model-77a57d2a0da011eb8684d53e267a241f\\\",\\\"SdkHttpMetadata\\\":{\\\"AllHttpHeaders\\\":{\\\"x-amzn-RequestId\\\":[\\\"0b3956f3-89e5-4b2d-92e5-bb030cc736bd\\\"],\\\"Content-Length\\\":[\\\"109\\\"],\\\"Date\\\":[\\\"Tue, 13 Oct 2020 22:15:47 GMT\\\"],\\\"Content-Type\\\":[\\\"application/x-amz-json-1.1\\\"]},\\\"HttpHeaders\\\":{\\\"Content-Length\\\":\\\"109\\\",\\\"Content-Type\\\":\\\"application/x-amz-json-1.1\\\",\\\"Date\\\":\\\"Tue, 13 Oct 2020 22:15:47 GMT\\\",\\\"x-amzn-RequestId\\\":\\\"0b3956f3-89e5-4b2d-92e5-bb030cc736bd\\\"},\\\"HttpStatusCode\\\":200},\\\"SdkResponseMetadata\\\":{\\\"RequestId\\\":\\\"0b3956f3-89e5-4b2d-92e5-bb030cc736bd\\\"}}\", \"inputDetails\": {\"truncated\": false}}}, {\"timestamp\": 1602627347.895, \"type\": \"TaskScheduled\", \"id\": 18, \"previousEventId\": 17, \"taskScheduledEventDetails\": {\"resourceType\": \"sagemaker\", \"resource\": \"createTransformJob.sync\", \"region\": \"ap-southeast-2\", \"parameters\": \"{\\\"TransformInput\\\":{\\\"DataSource\\\":{\\\"S3DataSource\\\":{\\\"S3DataType\\\":\\\"S3Prefix\\\",\\\"S3Uri\\\":\\\"s3://openaq-forecasting-593380422482-ap-southeast-2/preprocessing/output/test/batch_transform_test.json\\\"}},\\\"SplitType\\\":\\\"Line\\\"},\\\"TransformOutput\\\":{\\\"S3OutputPath\\\":\\\"s3://openaq-forecasting-593380422482-ap-southeast-2/sagemaker/batch_transform/output\\\",\\\"AssembleWith\\\":\\\"Line\\\"},\\\"TransformResources\\\":{\\\"InstanceCount\\\":1,\\\"InstanceType\\\":\\\"ml.c5.2xlarge\\\"},\\\"BatchStrategy\\\":\\\"MultiRecord\\\",\\\"Environment\\\":{\\\"DEEPAR_INFERENCE_CONFIG\\\":\\\"{\\\\\\\"num_samples\\\\\\\": 20, \\\\\\\"output_types\\\\\\\": [\\\\\\\"quantiles\\\\\\\"], \\\\\\\"quantiles\\\\\\\": [\\\\\\\"0.5\\\\\\\"]}\\\"},\\\"ModelName\\\":\\\"aqf-model-77a57d2a0da011eb8684d53e267a241f\\\",\\\"TransformJobName\\\":\\\"aqf-transform-77a5813a0da011eb8684d53e267a241f\\\",\\\"Tags\\\":[{\\\"Key\\\":\\\"MANAGED_BY_AWS\\\",\\\"Value\\\":\\\"STARTED_BY_STEP_FUNCTIONS\\\"}]}\"}}, {\"timestamp\": 1602627347.932, \"type\": \"TaskStarted\", \"id\": 19, \"previousEventId\": 18, \"taskStartedEventDetails\": {\"resourceType\": \"sagemaker\", \"resource\": \"createTransformJob.sync\"}}, {\"timestamp\": 1602627348.437, \"type\": \"TaskSubmitted\", \"id\": 20, \"previousEventId\": 19, \"taskSubmittedEventDetails\": {\"resourceType\": \"sagemaker\", \"resource\": \"createTransformJob.sync\", \"output\": \"{\\\"SdkHttpMetadata\\\":{\\\"AllHttpHeaders\\\":{\\\"x-amzn-RequestId\\\":[\\\"1fa0f0a9-8308-4eec-bb39-1d1ca0f4695a\\\"],\\\"Content-Length\\\":[\\\"128\\\"],\\\"Date\\\":[\\\"Tue, 13 Oct 2020 22:15:48 GMT\\\"],\\\"Content-Type\\\":[\\\"application/x-amz-json-1.1\\\"]},\\\"HttpHeaders\\\":{\\\"Content-Length\\\":\\\"128\\\",\\\"Content-Type\\\":\\\"application/x-amz-json-1.1\\\",\\\"Date\\\":\\\"Tue, 13 Oct 2020 22:15:48 GMT\\\",\\\"x-amzn-RequestId\\\":\\\"1fa0f0a9-8308-4eec-bb39-1d1ca0f4695a\\\"},\\\"HttpStatusCode\\\":200},\\\"SdkResponseMetadata\\\":{\\\"RequestId\\\":\\\"1fa0f0a9-8308-4eec-bb39-1d1ca0f4695a\\\"},\\\"TransformJobArn\\\":\\\"arn:aws:sagemaker:ap-southeast-2:593380422482:transform-job/aqf-transform-77a5813a0da011eb8684d53e267a241f\\\"}\", \"outputDetails\": {\"truncated\": false}}}, {\"timestamp\": 1602628021.164, \"type\": \"TaskSucceeded\", \"id\": 21, \"previousEventId\": 20, \"taskSucceededEventDetails\": {\"resourceType\": \"sagemaker\", \"resource\": \"createTransformJob.sync\", \"output\": \"{\\\"TransformJobName\\\":\\\"aqf-transform-77a5813a0da011eb8684d53e267a241f\\\",\\\"TransformJobArn\\\":\\\"arn:aws:sagemaker:ap-southeast-2:593380422482:transform-job/aqf-transform-77a5813a0da011eb8684d53e267a241f\\\",\\\"TransformJobStatus\\\":\\\"Completed\\\",\\\"ModelName\\\":\\\"aqf-model-77a57d2a0da011eb8684d53e267a241f\\\",\\\"MaxConcurrentTransforms\\\":0.0,\\\"MaxPayloadInMB\\\":0.0,\\\"BatchStrategy\\\":\\\"MULTI_RECORD\\\",\\\"Environment\\\":{\\\"DEEPAR_INFERENCE_CONFIG\\\":\\\"{\\\\\\\"num_samples\\\\\\\": 20, \\\\\\\"output_types\\\\\\\": [\\\\\\\"quantiles\\\\\\\"], \\\\\\\"quantiles\\\\\\\": [\\\\\\\"0.5\\\\\\\"]}\\\"},\\\"TransformInput\\\":{\\\"DataSource\\\":{\\\"S3DataSource\\\":{\\\"S3DataType\\\":\\\"S3_PREFIX\\\",\\\"S3Uri\\\":\\\"s3://openaq-forecasting-593380422482-ap-southeast-2/preprocessing/output/test/batch_transform_test.json\\\"}},\\\"CompressionType\\\":\\\"NONE\\\",\\\"SplitType\\\":\\\"LINE\\\"},\\\"TransformOutput\\\":{\\\"S3OutputPath\\\":\\\"s3://openaq-forecasting-593380422482-ap-southeast-2/sagemaker/batch_transform/output\\\",\\\"AssembleWith\\\":\\\"LINE\\\"},\\\"TransformResources\\\":{\\\"InstanceType\\\":\\\"ml.c5.2xlarge\\\",\\\"InstanceCount\\\":1.0},\\\"CreationTime\\\":1.602627348E12,\\\"TransformStartTime\\\":1.602627877E12,\\\"TransformEndTime\\\":1.602628016E12,\\\"DataProcessing\\\":{\\\"InputFilter\\\":\\\"$\\\",\\\"OutputFilter\\\":\\\"$\\\",\\\"JoinSource\\\":\\\"NONE\\\"},\\\"ExperimentConfig\\\":{},\\\"Tags\\\":{\\\"AWS_STEP_FUNCTIONS_EXECUTION_ARN\\\":\\\"arn:aws:states:ap-southeast-2:593380422482:execution:AirQualityForecastingWorkflow-04:d0149c36-7cf9-49b1-aad5-fd1d6703de26\\\",\\\"MANAGED_BY_AWS\\\":\\\"STARTED_BY_STEP_FUNCTIONS\\\"}}\", \"outputDetails\": {\"truncated\": false}}}, {\"timestamp\": 1602628021.164, \"type\": \"TaskStateExited\", \"id\": 22, \"previousEventId\": 21, \"stateExitedEventDetails\": {\"name\": \"Batch Transform Step\", \"output\": \"{\\\"TransformJobName\\\":\\\"aqf-transform-77a5813a0da011eb8684d53e267a241f\\\",\\\"TransformJobArn\\\":\\\"arn:aws:sagemaker:ap-southeast-2:593380422482:transform-job/aqf-transform-77a5813a0da011eb8684d53e267a241f\\\",\\\"TransformJobStatus\\\":\\\"Completed\\\",\\\"ModelName\\\":\\\"aqf-model-77a57d2a0da011eb8684d53e267a241f\\\",\\\"MaxConcurrentTransforms\\\":0.0,\\\"MaxPayloadInMB\\\":0.0,\\\"BatchStrategy\\\":\\\"MULTI_RECORD\\\",\\\"Environment\\\":{\\\"DEEPAR_INFERENCE_CONFIG\\\":\\\"{\\\\\\\"num_samples\\\\\\\": 20, \\\\\\\"output_types\\\\\\\": [\\\\\\\"quantiles\\\\\\\"], \\\\\\\"quantiles\\\\\\\": [\\\\\\\"0.5\\\\\\\"]}\\\"},\\\"TransformInput\\\":{\\\"DataSource\\\":{\\\"S3DataSource\\\":{\\\"S3DataType\\\":\\\"S3_PREFIX\\\",\\\"S3Uri\\\":\\\"s3://openaq-forecasting-593380422482-ap-southeast-2/preprocessing/output/test/batch_transform_test.json\\\"}},\\\"CompressionType\\\":\\\"NONE\\\",\\\"SplitType\\\":\\\"LINE\\\"},\\\"TransformOutput\\\":{\\\"S3OutputPath\\\":\\\"s3://openaq-forecasting-593380422482-ap-southeast-2/sagemaker/batch_transform/output\\\",\\\"AssembleWith\\\":\\\"LINE\\\"},\\\"TransformResources\\\":{\\\"InstanceType\\\":\\\"ml.c5.2xlarge\\\",\\\"InstanceCount\\\":1.0},\\\"CreationTime\\\":1.602627348E12,\\\"TransformStartTime\\\":1.602627877E12,\\\"TransformEndTime\\\":1.602628016E12,\\\"DataProcessing\\\":{\\\"InputFilter\\\":\\\"$\\\",\\\"OutputFilter\\\":\\\"$\\\",\\\"JoinSource\\\":\\\"NONE\\\"},\\\"ExperimentConfig\\\":{},\\\"Tags\\\":{\\\"AWS_STEP_FUNCTIONS_EXECUTION_ARN\\\":\\\"arn:aws:states:ap-southeast-2:593380422482:execution:AirQualityForecastingWorkflow-04:d0149c36-7cf9-49b1-aad5-fd1d6703de26\\\",\\\"MANAGED_BY_AWS\\\":\\\"STARTED_BY_STEP_FUNCTIONS\\\"}}\", \"outputDetails\": {\"truncated\": false}}}, {\"timestamp\": 1602628021.164, \"type\": \"ExecutionSucceeded\", \"id\": 23, \"previousEventId\": 22, \"executionSucceededEventDetails\": {\"output\": \"{\\\"TransformJobName\\\":\\\"aqf-transform-77a5813a0da011eb8684d53e267a241f\\\",\\\"TransformJobArn\\\":\\\"arn:aws:sagemaker:ap-southeast-2:593380422482:transform-job/aqf-transform-77a5813a0da011eb8684d53e267a241f\\\",\\\"TransformJobStatus\\\":\\\"Completed\\\",\\\"ModelName\\\":\\\"aqf-model-77a57d2a0da011eb8684d53e267a241f\\\",\\\"MaxConcurrentTransforms\\\":0.0,\\\"MaxPayloadInMB\\\":0.0,\\\"BatchStrategy\\\":\\\"MULTI_RECORD\\\",\\\"Environment\\\":{\\\"DEEPAR_INFERENCE_CONFIG\\\":\\\"{\\\\\\\"num_samples\\\\\\\": 20, \\\\\\\"output_types\\\\\\\": [\\\\\\\"quantiles\\\\\\\"], \\\\\\\"quantiles\\\\\\\": [\\\\\\\"0.5\\\\\\\"]}\\\"},\\\"TransformInput\\\":{\\\"DataSource\\\":{\\\"S3DataSource\\\":{\\\"S3DataType\\\":\\\"S3_PREFIX\\\",\\\"S3Uri\\\":\\\"s3://openaq-forecasting-593380422482-ap-southeast-2/preprocessing/output/test/batch_transform_test.json\\\"}},\\\"CompressionType\\\":\\\"NONE\\\",\\\"SplitType\\\":\\\"LINE\\\"},\\\"TransformOutput\\\":{\\\"S3OutputPath\\\":\\\"s3://openaq-forecasting-593380422482-ap-southeast-2/sagemaker/batch_transform/output\\\",\\\"AssembleWith\\\":\\\"LINE\\\"},\\\"TransformResources\\\":{\\\"InstanceType\\\":\\\"ml.c5.2xlarge\\\",\\\"InstanceCount\\\":1.0},\\\"CreationTime\\\":1.602627348E12,\\\"TransformStartTime\\\":1.602627877E12,\\\"TransformEndTime\\\":1.602628016E12,\\\"DataProcessing\\\":{\\\"InputFilter\\\":\\\"$\\\",\\\"OutputFilter\\\":\\\"$\\\",\\\"JoinSource\\\":\\\"NONE\\\"},\\\"ExperimentConfig\\\":{},\\\"Tags\\\":{\\\"AWS_STEP_FUNCTIONS_EXECUTION_ARN\\\":\\\"arn:aws:states:ap-southeast-2:593380422482:execution:AirQualityForecastingWorkflow-04:d0149c36-7cf9-49b1-aad5-fd1d6703de26\\\",\\\"MANAGED_BY_AWS\\\":\\\"STARTED_BY_STEP_FUNCTIONS\\\"}}\", \"outputDetails\": {\"truncated\": false}}}] };\n",
       "\n",
       "    var graph = new sfn.StateMachineExecutionGraph(definition, events, elementId, options);\n",
       "    graph.render();\n",
       "});\n",
       "\n",
       "</script>\n"
      ],
      "text/plain": [
       "<IPython.core.display.HTML object>"
      ]
     },
     "execution_count": 61,
     "metadata": {},
     "output_type": "execute_result"
    }
   ],
   "source": [
    "execution.render_progress()"
   ]
  },
  {
   "cell_type": "markdown",
   "metadata": {},
   "source": [
    "### Inference\n",
    "\n",
    "***pending*** may verify the batch transform output result and testing data."
   ]
  },
  {
   "cell_type": "code",
   "execution_count": null,
   "metadata": {},
   "outputs": [],
   "source": [
    "# todo"
   ]
  },
  {
   "cell_type": "markdown",
   "metadata": {},
   "source": [
    "### Clean resources"
   ]
  },
  {
   "cell_type": "code",
   "execution_count": null,
   "metadata": {},
   "outputs": [],
   "source": [
    "# todo"
   ]
  }
 ],
 "metadata": {
  "kernelspec": {
   "display_name": "conda_python3",
   "language": "python",
   "name": "conda_python3"
  },
  "language_info": {
   "codemirror_mode": {
    "name": "ipython",
    "version": 3
   },
   "file_extension": ".py",
   "mimetype": "text/x-python",
   "name": "python",
   "nbconvert_exporter": "python",
   "pygments_lexer": "ipython3",
   "version": "3.6.10"
  }
 },
 "nbformat": 4,
 "nbformat_minor": 4
}
