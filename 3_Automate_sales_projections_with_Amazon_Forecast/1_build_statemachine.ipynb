{
 "cells": [
  {
   "cell_type": "markdown",
   "metadata": {},
   "source": [
    "# Build Step Functions statemachine\n",
    "In this notebook, we will build the Amazon Forecast pipeline using the Step Functions statemachine. We also set up a Rule for CloudWatch Events so that Step Functions will run when the file is put to S3."
   ]
  },
  {
   "cell_type": "markdown",
   "metadata": {},
   "source": [
    "## Create statemachine"
   ]
  },
  {
   "cell_type": "code",
   "execution_count": null,
   "metadata": {},
   "outputs": [],
   "source": [
    "import boto3"
   ]
  },
  {
   "cell_type": "code",
   "execution_count": null,
   "metadata": {},
   "outputs": [],
   "source": [
    "import sagemaker\n",
    "sagemaker_session = sagemaker.Session()\n",
    "\n",
    "sts = boto3.client('sts')\n",
    "id_info = sts.get_caller_identity()\n",
    "import json"
   ]
  },
  {
   "cell_type": "code",
   "execution_count": null,
   "metadata": {},
   "outputs": [],
   "source": [
    "from sagemaker import get_execution_role\n",
    "\n",
    "role_sm = get_execution_role()"
   ]
  },
  {
   "cell_type": "code",
   "execution_count": null,
   "metadata": {},
   "outputs": [],
   "source": [
    "def_sfn={\n",
    "  \"Comment\": \"Amazon Forecast example of the Amazon States Language using an AWS Lambda Function\",\n",
    "  \"StartAt\": \"Create-DatasetGroup\",\n",
    "  \"States\": {\n",
    "    \"Create-DatasetGroup\": {\n",
    "      \"Type\": \"Task\",\n",
    "      \"InputPath\":\"$\",\n",
    "      \"Resource\": \"arn:aws:lambda:\" + sagemaker_session.boto_region_name + \":\" + id_info['Account'] + \":function:createdatasetgroup\",\n",
    "      \"ResultPath\":\"$\",\n",
    "      \"Next\": \"Create-Dataset\"\n",
    "    },\n",
    "    \"Create-Dataset\": {\n",
    "      \"Type\": \"Task\",\n",
    "      \"InputPath\":\"$\",\n",
    "      \"Resource\": \"arn:aws:lambda:\" + sagemaker_session.boto_region_name + \":\" + id_info['Account'] + \":function:createdataset\",\n",
    "      \"ResultPath\":\"$\",\n",
    "      \"Next\": \"Import-Data\"\n",
    "    },  \n",
    "    \"Import-Data\": {\n",
    "      \"Type\": \"Task\",\n",
    "      \"InputPath\": \"$\",\n",
    "      \"Resource\": \"arn:aws:lambda:\" + sagemaker_session.boto_region_name + \":\" + id_info['Account'] + \":function:createdatasetimport\",\n",
    "      \"ResultPath\": \"$\",\n",
    "      \"Next\": \"Wait-Import-Data\"\n",
    "    },\n",
    "    \"Wait-Import-Data\": {\n",
    "      \"Type\": \"Task\",\n",
    "      \"InputPath\": \"$\",\n",
    "      \"Resource\": \"arn:aws:lambda:\" + sagemaker_session.boto_region_name + \":\" + id_info['Account'] + \":function:getstatusimport\",\n",
    "      \"Retry\": [\n",
    "        {\n",
    "          \"ErrorEquals\": [\"SatusActive\"],\n",
    "          \"IntervalSeconds\": 10,\n",
    "          \"MaxAttempts\": 360,\n",
    "          \"BackoffRate\": 1.0\n",
    "        }\n",
    "      ],\n",
    "      \"ResultPath\": \"$\",\n",
    "      \"Next\": \"Create-Predictor\"\n",
    "    },\n",
    "    \"Create-Predictor\": {\n",
    "      \"Type\": \"Task\",\n",
    "      \"InputPath\": \"$\",\n",
    "      \"Resource\": \"arn:aws:lambda:\" + sagemaker_session.boto_region_name + \":\" + id_info['Account'] + \":function:createpredictor\",\n",
    "      \"ResultPath\": \"$\",\n",
    "      \"Next\": \"Wait-Create-Predictor\"\n",
    "    },\n",
    "    \"Wait-Create-Predictor\": {\n",
    "      \"Type\": \"Task\",\n",
    "      \"InputPath\": \"$\",\n",
    "      \"Resource\": \"arn:aws:lambda:\" + sagemaker_session.boto_region_name + \":\" + id_info['Account'] + \":function:getstatuspredictor\",\n",
    "      \"Retry\": [\n",
    "        {\n",
    "          \"ErrorEquals\": [\"SatusActive\"],\n",
    "          \"IntervalSeconds\": 10,\n",
    "          \"MaxAttempts\": 360,\n",
    "          \"BackoffRate\": 1.0\n",
    "        }\n",
    "      ],\n",
    "      \"ResultPath\": \"$\",\n",
    "      \"Next\": \"Create-Forecast\"\n",
    "    },\n",
    "    \"Create-Forecast\": {\n",
    "      \"Type\": \"Task\",\n",
    "      \"InputPath\": \"$\",\n",
    "      \"Resource\": \"arn:aws:lambda:\" + sagemaker_session.boto_region_name + \":\" + id_info['Account'] + \":function:createforecast\",\n",
    "      \"ResultPath\": \"$\",\n",
    "      \"Next\": \"Wait-Create-Forecast\"\n",
    "    },\n",
    "    \"Wait-Create-Forecast\": {\n",
    "      \"Type\": \"Task\",\n",
    "      \"InputPath\": \"$\",\n",
    "      \"Resource\": \"arn:aws:lambda:\" + sagemaker_session.boto_region_name + \":\" + id_info['Account'] + \":function:getstatusforecast\",\n",
    "      \"Retry\": [\n",
    "        {\n",
    "          \"ErrorEquals\": [\"SatusActive\"],\n",
    "          \"IntervalSeconds\": 10,\n",
    "          \"MaxAttempts\": 360,\n",
    "          \"BackoffRate\": 1.0\n",
    "        }\n",
    "      ],\n",
    "      \"ResultPath\": \"$\",\n",
    "      \"Next\": \"Export-Forecast\"\n",
    "    },\n",
    "    \"Export-Forecast\": {\n",
    "      \"Type\": \"Task\",\n",
    "      \"InputPath\": \"$\",\n",
    "      \"Resource\": \"arn:aws:lambda:\" + sagemaker_session.boto_region_name + \":\" + id_info['Account'] + \":function:createforecastexportjob\",\n",
    "      \"ResultPath\": \"$\",\n",
    "      \"Next\": \"Wait-Export-Forecast\"\n",
    "    },\n",
    "    \"Wait-Export-Forecast\": {\n",
    "      \"Type\": \"Task\",\n",
    "      \"InputPath\": \"$\",\n",
    "      \"Resource\": \"arn:aws:lambda:\" + sagemaker_session.boto_region_name + \":\" + id_info['Account'] + \":function:getstatusforecastexportjob\",\n",
    "      \"Retry\": [\n",
    "        {\n",
    "          \"ErrorEquals\": [\"SatusActive\"],\n",
    "          \"IntervalSeconds\": 10,\n",
    "          \"MaxAttempts\": 360,\n",
    "          \"BackoffRate\": 1.0\n",
    "        }\n",
    "      ],\n",
    "      \"ResultPath\": \"$\",\n",
    "      \"End\": True\n",
    "    }\n",
    "  }\n",
    "}"
   ]
  },
  {
   "cell_type": "code",
   "execution_count": null,
   "metadata": {},
   "outputs": [],
   "source": [
    "with open('./sfn_definition.json', 'w') as f:\n",
    "    json.dump(def_sfn, f, indent=2, ensure_ascii=False)"
   ]
  },
  {
   "cell_type": "code",
   "execution_count": null,
   "metadata": {},
   "outputs": [],
   "source": [
    "import boto3\n",
    "sfn = boto3.client('stepfunctions')"
   ]
  },
  {
   "cell_type": "code",
   "execution_count": null,
   "metadata": {},
   "outputs": [],
   "source": [
    "sfn.create_state_machine(\n",
    "        name=\"workshop-timeseries-retail\",\n",
    "        definition=open(\"sfn_definition.json\").read(),\n",
    "        roleArn=role_sm\n",
    ")"
   ]
  },
  {
   "cell_type": "markdown",
   "metadata": {},
   "source": [
    "## Set CloudWatchEvent Rule"
   ]
  },
  {
   "cell_type": "code",
   "execution_count": null,
   "metadata": {},
   "outputs": [],
   "source": [
    "import sagemaker\n",
    "sagemaker_session = sagemaker.Session()\n",
    "sts = boto3.client('sts')\n",
    "id_info = sts.get_caller_identity()"
   ]
  },
  {
   "cell_type": "code",
   "execution_count": null,
   "metadata": {},
   "outputs": [],
   "source": [
    "bucket_name = 'workshop-timeseries-retail-' + id_info['Account'] + '-source'"
   ]
  },
  {
   "cell_type": "code",
   "execution_count": null,
   "metadata": {},
   "outputs": [],
   "source": [
    "cwe = boto3.client('events')"
   ]
  },
  {
   "cell_type": "code",
   "execution_count": null,
   "metadata": {},
   "outputs": [],
   "source": [
    "ep_str ='{\"source\":[\"aws.s3\"], \\\n",
    "        \"detail-type\":[\"AWS API Call via CloudTrail\"], \\\n",
    "        \"detail\":{\"eventSource\":[\"s3.amazonaws.com\"], \\\n",
    "        \"eventName\":[\"PutObject\", \"CompleteMultipartUpload\"], \\\n",
    "        \"requestParameters\":{\"bucketName\":[\"'+ bucket_name + '\"]}}}'"
   ]
  },
  {
   "cell_type": "code",
   "execution_count": null,
   "metadata": {},
   "outputs": [],
   "source": [
    "cwe.put_rule(\n",
    "    Name='workshop-timeseries-retail',\n",
    "    EventPattern=ep_str,\n",
    "    State='ENABLED'\n",
    ")"
   ]
  },
  {
   "cell_type": "code",
   "execution_count": null,
   "metadata": {},
   "outputs": [],
   "source": [
    "cwe.put_targets(\n",
    "    Rule='workshop-timeseries-retail',\n",
    "    Targets=[\n",
    "        {\n",
    "            'Id': 'forecast',\n",
    "            'Arn': \"arn:aws:states:\" + sagemaker_session.boto_region_name + \":\" + id_info['Account'] + \":stateMachine:workshop-timeseries-retail\",\n",
    "            'RoleArn': role_sm\n",
    "        }\n",
    "    ]\n",
    ")"
   ]
  },
  {
   "cell_type": "markdown",
   "metadata": {},
   "source": [
    "## Next\n",
    "proceed 2_preprocess_and_put_dataset.ipynb"
   ]
  }
 ],
 "metadata": {
  "kernelspec": {
   "display_name": "conda_python3",
   "language": "python",
   "name": "conda_python3"
  },
  "language_info": {
   "codemirror_mode": {
    "name": "ipython",
    "version": 3
   },
   "file_extension": ".py",
   "mimetype": "text/x-python",
   "name": "python",
   "nbconvert_exporter": "python",
   "pygments_lexer": "ipython3",
   "version": "3.6.10"
  }
 },
 "nbformat": 4,
 "nbformat_minor": 4
}
