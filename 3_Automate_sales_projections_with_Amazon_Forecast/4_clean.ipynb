{
 "cells": [
  {
   "cell_type": "markdown",
   "metadata": {},
   "source": [
    "# Clean up environment\n",
    "This notebook cleans the environment used in the demo."
   ]
  },
  {
   "cell_type": "code",
   "execution_count": null,
   "metadata": {},
   "outputs": [],
   "source": [
    "import boto3\n",
    "session = boto3.Session()\n",
    "region = session.region_name\n",
    "sts = boto3.client('sts')\n",
    "id_info = sts.get_caller_identity()\n",
    "account = id_info['Account']"
   ]
  },
  {
   "cell_type": "markdown",
   "metadata": {},
   "source": [
    "## Delete containts of S3 - must be empty before Cloud Formation deleting -"
   ]
  },
  {
   "cell_type": "code",
   "execution_count": null,
   "metadata": {},
   "outputs": [],
   "source": [
    "s3 = boto3.resource('s3')\n",
    "bucket = s3.Bucket(f'workshop-timeseries-retail-{account}-cloudtrail')\n",
    "bucket.objects.all().delete()"
   ]
  },
  {
   "cell_type": "code",
   "execution_count": null,
   "metadata": {},
   "outputs": [],
   "source": [
    "s3.Bucket(f'workshop-timeseries-retail-{account}-source').objects.all().delete()"
   ]
  },
  {
   "cell_type": "markdown",
   "metadata": {},
   "source": [
    "## Delete StepFunctions"
   ]
  },
  {
   "cell_type": "code",
   "execution_count": null,
   "metadata": {},
   "outputs": [],
   "source": [
    "sfn = boto3.client('stepfunctions')"
   ]
  },
  {
   "cell_type": "code",
   "execution_count": null,
   "metadata": {},
   "outputs": [],
   "source": [
    "sfn.delete_state_machine(\n",
    "    stateMachineArn=f'arn:aws:states:{region}:{account}:stateMachine:workshop-timeseries-retail'\n",
    ")"
   ]
  },
  {
   "cell_type": "markdown",
   "metadata": {},
   "source": [
    "## Delete CloudWatch Events Rule"
   ]
  },
  {
   "cell_type": "code",
   "execution_count": null,
   "metadata": {},
   "outputs": [],
   "source": [
    "cwe = boto3.client('events')"
   ]
  },
  {
   "cell_type": "code",
   "execution_count": null,
   "metadata": {},
   "outputs": [],
   "source": [
    "### confirmation\n",
    "cwe.list_targets_by_rule(\n",
    "    Rule='workshop-timeseries-retail',\n",
    "    #NextToken='string',\n",
    "    Limit=100\n",
    ")"
   ]
  },
  {
   "cell_type": "code",
   "execution_count": null,
   "metadata": {},
   "outputs": [],
   "source": [
    "response = cwe.remove_targets(\n",
    "    Rule='workshop-timeseries-retail',\n",
    "    Ids=[\n",
    "        'forecast',\n",
    "    ]\n",
    ")"
   ]
  },
  {
   "cell_type": "code",
   "execution_count": null,
   "metadata": {},
   "outputs": [],
   "source": [
    "response = cwe.delete_rule(\n",
    "    Name='workshop-timeseries-retail'\n",
    ")"
   ]
  },
  {
   "cell_type": "markdown",
   "metadata": {},
   "source": [
    "## Delete Amazon Foreast components"
   ]
  },
  {
   "cell_type": "code",
   "execution_count": null,
   "metadata": {},
   "outputs": [],
   "source": [
    "import time"
   ]
  },
  {
   "cell_type": "code",
   "execution_count": null,
   "metadata": {},
   "outputs": [],
   "source": [
    "forecast = boto3.client('forecast')"
   ]
  },
  {
   "cell_type": "code",
   "execution_count": null,
   "metadata": {},
   "outputs": [],
   "source": [
    "### exportjob\n",
    "forecast.delete_forecast_export_job(\n",
    "    ForecastExportJobArn=f'arn:aws:forecast:{region}:{account}:forecast-export-job/tr_target_add_20091201_20101209/tr_target_add_20091201_20101209'\n",
    ")\n",
    "\n",
    "while 1:\n",
    "    print('Waiting for deleting...')\n",
    "    time.sleep(10)\n",
    "    try:\n",
    "        response = forecast.describe_forecast_export_job(\n",
    "            ForecastExportJobArn=f'arn:aws:forecast:{region}:{account}:forecast-export-job/tr_target_add_20091201_20101209/tr_target_add_20091201_20101209'\n",
    "        )\n",
    "    except:\n",
    "        print('Deleted.')\n",
    "        break"
   ]
  },
  {
   "cell_type": "code",
   "execution_count": null,
   "metadata": {},
   "outputs": [],
   "source": [
    "### forecast\n",
    "forecast.delete_forecast(\n",
    "    ForecastArn=f'arn:aws:forecast:{region}:{account}:forecast/tr_target_add_20091201_20101209'\n",
    ")\n",
    "\n",
    "while 1:\n",
    "    print('Waiting for deleting...')\n",
    "    time.sleep(10)\n",
    "    try:\n",
    "        response = forecast.describe_forecast(\n",
    "            ForecastArn=f'arn:aws:forecast:{region}:{account}:forecast/tr_target_add_20091201_20101209'\n",
    "        )\n",
    "    except:\n",
    "        print('Deleted.')\n",
    "        break"
   ]
  },
  {
   "cell_type": "code",
   "execution_count": null,
   "metadata": {},
   "outputs": [],
   "source": [
    "### predictor\n",
    "forecast.delete_predictor(\n",
    "    PredictorArn=f'arn:aws:forecast:{region}:{account}:predictor/tr_target_add_20091201_20101209'\n",
    ")\n",
    "\n",
    "while 1:\n",
    "    print('Waiting for deleting...')\n",
    "    time.sleep(10)\n",
    "    try:\n",
    "        response = forecast.describe_predictor(\n",
    "            PredictorArn=f'arn:aws:forecast:{region}:{account}:predictor/tr_target_add_20091201_20101209'\n",
    "        )\n",
    "    except:\n",
    "        print('Deleted.')\n",
    "        break"
   ]
  },
  {
   "cell_type": "code",
   "execution_count": null,
   "metadata": {},
   "outputs": [],
   "source": [
    "### dataset import job\n",
    "forecast.delete_dataset_import_job(\n",
    "    DatasetImportJobArn=f'arn:aws:forecast:{region}:{account}:dataset-import-job/workshop_timeseries_retail_target/tr_target_add_20091201_20101209'\n",
    ")\n",
    "\n",
    "while 1:\n",
    "    print('Waiting for deleting...')\n",
    "    time.sleep(10)\n",
    "    try:\n",
    "        response = forecast.describe_dataset_import_job(\n",
    "            DatasetImportJobArn=f'arn:aws:forecast:{region}:{account}:dataset-import-job/workshop_timeseries_retail_target/tr_target_add_20091201_20101209'\n",
    "        )\n",
    "    except:\n",
    "        print('Deleted.')\n",
    "        break"
   ]
  },
  {
   "cell_type": "code",
   "execution_count": null,
   "metadata": {},
   "outputs": [],
   "source": [
    "### dataset\n",
    "forecast.delete_dataset(\n",
    "    DatasetArn=f'arn:aws:forecast:{region}:{account}:dataset/workshop_timeseries_retail_target'\n",
    ")\n",
    "\n",
    "while 1:\n",
    "    print('Waiting for deleting...')\n",
    "    time.sleep(10)\n",
    "    try:\n",
    "        response = forecast.describe_dataset(\n",
    "            DatasetArn=f'arn:aws:forecast:{region}:{account}:dataset/workshop_timeseries_retail_target'\n",
    "        )\n",
    "    except:\n",
    "        print('Deleted.')\n",
    "        break"
   ]
  },
  {
   "cell_type": "code",
   "execution_count": null,
   "metadata": {},
   "outputs": [],
   "source": [
    "### datasetgroup\n",
    "forecast.delete_dataset_group(\n",
    "    DatasetGroupArn=f'arn:aws:forecast:{region}:{account}:dataset-group/workshop_timeseries_retail'\n",
    ")\n",
    "\n",
    "while 1:\n",
    "    print('Waiting for deleting...')\n",
    "    time.sleep(10)\n",
    "    try:\n",
    "        response = forecast.describe_dataset_group(\n",
    "            DatasetGroupArn=f'arn:aws:forecast:{region}:{account}:dataset-group/workshop_timeseries_retail'\n",
    "        )\n",
    "    except:\n",
    "        print('Deleted.')\n",
    "        break"
   ]
  },
  {
   "cell_type": "markdown",
   "metadata": {},
   "source": [
    "## Delete S3 bucket for deployment"
   ]
  },
  {
   "cell_type": "code",
   "execution_count": null,
   "metadata": {},
   "outputs": [],
   "source": [
    "s3.Bucket(f'workshop-timeseries-retail-{account}-deploy').objects.all().delete()"
   ]
  },
  {
   "cell_type": "code",
   "execution_count": null,
   "metadata": {},
   "outputs": [],
   "source": [
    "s3.Bucket(f'workshop-timeseries-retail-{account}-deploy').delete()"
   ]
  },
  {
   "cell_type": "markdown",
   "metadata": {},
   "source": [
    "## Delete CloudFormation Stack\n",
    "The SageMaker notebook instance running this notebook will also be deleted."
   ]
  },
  {
   "cell_type": "code",
   "execution_count": null,
   "metadata": {},
   "outputs": [],
   "source": [
    "cf = boto3.client('cloudformation')\n",
    "res = cf.delete_stack(\n",
    "    StackName=('workshop-timeseries-retail')\n",
    ")"
   ]
  },
  {
   "cell_type": "markdown",
   "metadata": {},
   "source": [
    "## End of Workshop"
   ]
  }
 ],
 "metadata": {
  "kernelspec": {
   "display_name": "conda_python3",
   "language": "python",
   "name": "conda_python3"
  },
  "language_info": {
   "codemirror_mode": {
    "name": "ipython",
    "version": 3
   },
   "file_extension": ".py",
   "mimetype": "text/x-python",
   "name": "python",
   "nbconvert_exporter": "python",
   "pygments_lexer": "ipython3",
   "version": "3.6.10"
  }
 },
 "nbformat": 4,
 "nbformat_minor": 4
}
